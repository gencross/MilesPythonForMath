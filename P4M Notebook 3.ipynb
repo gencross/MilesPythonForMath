{
 "cells": [
  {
   "cell_type": "markdown",
   "metadata": {
    "id": "6wh71ZCco1Nc"
   },
   "source": [
    "# Part 3:  Lists\n",
    "\n",
    "Python provides a powerful set of tools to create and manipulate lists of data. In this part, we take a deep dive into the Python list type.  This includes mutability, list methods, and slicing.\n",
    "\n",
    "\n",
    "Then we use Python lists to implement and optimize the Sieve of Eratosthenes, which will produce a list of all prime numbers up to a big number (like 10 million) in a snap. Along the way, we introduce some Python techniques for data analysis and visualization."
   ]
  },
  {
   "cell_type": "markdown",
   "metadata": {
    "id": "V1d8-qavo1Ng"
   },
   "source": [
    "## Primality testing"
   ]
  },
  {
   "cell_type": "markdown",
   "metadata": {
    "id": "o8GcrfMBo1Ng"
   },
   "source": [
    "Before diving into lists, we recall the **brute force** primality test that we created in the last lesson.  To test whether a number `n` is prime, we can simply check for factors.  This yields the following primality test."
   ]
  },
  {
   "cell_type": "code",
   "execution_count": 3,
   "metadata": {
    "id": "PmShUfrWo1Nh"
   },
   "outputs": [],
   "source": [
    "def is_prime(n):\n",
    "    '''\n",
    "    Checks whether the argument n is a prime number.\n",
    "    Uses a brute force search for factors between 1 and n.\n",
    "    '''\n",
    "    for j in range(2,n):  # the range of numbers 2,3,...,n-1.\n",
    "        if n%j == 0:  # is n divisible by j?\n",
    "            print(\"{} is a factor of {}.\".format(j,n))\n",
    "            return False\n",
    "    return True"
   ]
  },
  {
   "cell_type": "markdown",
   "metadata": {
    "id": "ps6dGQ_lo1Nh"
   },
   "source": [
    "We can also implement this test with a **while loop** instead of a for loop.  This doesn't make much of a difference, in Python 3.x.  (In Python 2.x, this would save memory)."
   ]
  },
  {
   "cell_type": "code",
   "execution_count": 4,
   "metadata": {
    "id": "uyU1DxPjo1Nh"
   },
   "outputs": [],
   "source": [
    "def is_prime(n):\n",
    "    '''\n",
    "    Checks whether the argument n is a prime number.\n",
    "    Uses a brute force search for factors between 1 and n.\n",
    "    '''\n",
    "    j = 2\n",
    "    while j < n:  # j will proceed through the list of numbers 2,3,...,n-1.\n",
    "        if n%j == 0:  # is n divisible by j?\n",
    "            print(\"{} is a factor of {}.\".format(j,n))\n",
    "            return False\n",
    "        j = j + 1  # There's a Python abbreviation for this:  j += 1.\n",
    "    return True"
   ]
  },
  {
   "cell_type": "code",
   "execution_count": 5,
   "metadata": {
    "id": "n8VNDo3Ro1Nh"
   },
   "outputs": [
    {
     "name": "stdout",
     "output_type": "stream",
     "text": [
      "73 is a factor of 10001.\n"
     ]
    },
    {
     "data": {
      "text/plain": [
       "False"
      ]
     },
     "execution_count": 5,
     "metadata": {},
     "output_type": "execute_result"
    }
   ],
   "source": [
    "is_prime(10001)"
   ]
  },
  {
   "cell_type": "code",
   "execution_count": 6,
   "metadata": {
    "id": "EwsTzmDJo1Nh"
   },
   "outputs": [
    {
     "data": {
      "text/plain": [
       "True"
      ]
     },
     "execution_count": 6,
     "metadata": {},
     "output_type": "execute_result"
    }
   ],
   "source": [
    "is_prime(101)"
   ]
  },
  {
   "cell_type": "markdown",
   "metadata": {
    "id": "LMiisxZko1Ni"
   },
   "source": [
    "If $n$ is a prime number, then the `is_prime(n)` function will iterate through all the numbers between $2$ and $n-1$.  But this is overkill!  Indeed, if $n$ is not prime, it will have a factor between $2$ and the square root of $n$.  This is because factors come in pairs:  if $ab = n$, then one of the factors, $a$ or $b$, must be less than or equal to the square root of $n$.  So it suffices to search for factors up to (and including) the square root of $n$."
   ]
  },
  {
   "cell_type": "markdown",
   "metadata": {
    "id": "QlS5mEtko1Ni"
   },
   "source": [
    "Even though we've made our own sqrt function, we load a fast one from the [standard math package](https://docs.python.org/3/library/math.html).  You can use this for square roots, trig functions, logs, and more.  Click the previous link for documentation.  This package doesn't load automatically when you start Python, so you have to load it with a little Python code."
   ]
  },
  {
   "cell_type": "code",
   "execution_count": 7,
   "metadata": {
    "id": "StYgB3R2o1Ni"
   },
   "outputs": [],
   "source": [
    "from math import sqrt"
   ]
  },
  {
   "cell_type": "markdown",
   "metadata": {
    "id": "g5qCsftto1Ni"
   },
   "source": [
    "This command **imports** the square root function (`sqrt`) from the **package** called `math`.  Now you can find square roots."
   ]
  },
  {
   "cell_type": "code",
   "execution_count": 8,
   "metadata": {
    "id": "yky_CASQo1Ni"
   },
   "outputs": [
    {
     "data": {
      "text/plain": [
       "31.622776601683793"
      ]
     },
     "execution_count": 8,
     "metadata": {},
     "output_type": "execute_result"
    }
   ],
   "source": [
    "sqrt(1000)"
   ]
  },
  {
   "cell_type": "markdown",
   "metadata": {
    "id": "G6KIJi-Go1Ni"
   },
   "source": [
    "There are a few different ways to import functions from packages.  The above syntax is a good starting point, but sometimes problems can arise if different packages have functions with the same name.  Here are a few methods of importing the `sqrt` function and how they differ.\n",
    "\n",
    "`from math import sqrt`:  After this command, `sqrt` will refer to the function from the `math` package (overriding any previous definition).\n",
    "\n",
    "`import math`:  After this command, all the functions from the `math` package will be imported.  But to call `sqrt`, you would type a command like `math.sqrt(1000)`.  This is convenient if there are potential conflicts with other packages.\n",
    "\n",
    "`from math import *`:  After this command, all the functions from the `math` package will be imported.  To call them, you can access them directly with a command like `sqrt(1000)`.  This can easily cause conflicts with other packages, since packages can have hundreds of functions in them!\n",
    "\n",
    "`import math as mth`:  Some people like abbreviations.  This imports all the functions from the `math` package.  To call one, you type a command like `mth.sqrt(1000)`. "
   ]
  },
  {
   "cell_type": "code",
   "execution_count": 9,
   "metadata": {
    "id": "DkMBWCH2o1Nj"
   },
   "outputs": [],
   "source": [
    "import math"
   ]
  },
  {
   "cell_type": "code",
   "execution_count": 10,
   "metadata": {
    "id": "JCOkoqBJo1Nj"
   },
   "outputs": [
    {
     "data": {
      "text/plain": [
       "31.622776601683793"
      ]
     },
     "execution_count": 10,
     "metadata": {},
     "output_type": "execute_result"
    }
   ],
   "source": [
    "math.sqrt(1000)"
   ]
  },
  {
   "cell_type": "code",
   "execution_count": 11,
   "metadata": {
    "id": "1wHHxCBvo1Nj"
   },
   "outputs": [],
   "source": [
    "# factorial(10)  # This will cause an error!"
   ]
  },
  {
   "cell_type": "code",
   "execution_count": 12,
   "metadata": {
    "id": "q3_f65bdo1Nj"
   },
   "outputs": [
    {
     "data": {
      "text/plain": [
       "3628800"
      ]
     },
     "execution_count": 12,
     "metadata": {},
     "output_type": "execute_result"
    }
   ],
   "source": [
    "math.factorial(10)  # This is ok, since the math package comes with a function called factorial."
   ]
  },
  {
   "cell_type": "markdown",
   "metadata": {
    "id": "PercB7IRo1Nj"
   },
   "source": [
    "Now let's improve our `is_prime(n)` function by searching for factors only up to the square root of the number `n`.  We consider two options."
   ]
  },
  {
   "cell_type": "code",
   "execution_count": 13,
   "metadata": {
    "id": "1jFrsNtvo1Nj"
   },
   "outputs": [],
   "source": [
    "def is_prime_slow(n):\n",
    "    '''\n",
    "    Checks whether the argument n is a prime number.\n",
    "    Uses a brute force search for factors between 1 and n.\n",
    "    '''\n",
    "    j = 2\n",
    "    while j <= sqrt(n):  # j will proceed through the list of numbers 2,3,... up to sqrt(n).\n",
    "        if n%j == 0:  # is n divisible by j?\n",
    "            print(\"{} is a factor of {}.\".format(j,n))\n",
    "            return False\n",
    "        j = j + 1  # There's a Python abbreviation for this:  j += 1.\n",
    "    return True"
   ]
  },
  {
   "cell_type": "code",
   "execution_count": 14,
   "metadata": {
    "id": "kivEWwP8o1Nj"
   },
   "outputs": [],
   "source": [
    "def is_prime_fast(n):\n",
    "    '''\n",
    "    Checks whether the argument n is a prime number.\n",
    "    Uses a brute force search for factors between 1 and n.\n",
    "    '''\n",
    "    j = 2\n",
    "    root_n = sqrt(n)\n",
    "    while j <= root_n:  # j will proceed through the list of numbers 2,3,... up to sqrt(n).\n",
    "        if n%j == 0:  # is n divisible by j?\n",
    "            print(\"{} is a factor of {}.\".format(j,n))\n",
    "            return False\n",
    "        j = j + 1  # There's a Python abbreviation for this:  j += 1.\n",
    "    return True"
   ]
  },
  {
   "cell_type": "code",
   "execution_count": 15,
   "metadata": {
    "id": "MYRn_kwAo1Nk"
   },
   "outputs": [
    {
     "data": {
      "text/plain": [
       "True"
      ]
     },
     "execution_count": 15,
     "metadata": {},
     "output_type": "execute_result"
    }
   ],
   "source": [
    "is_prime_fast(1000003)"
   ]
  },
  {
   "cell_type": "code",
   "execution_count": 16,
   "metadata": {
    "id": "CycTNs3Yo1Nk"
   },
   "outputs": [
    {
     "data": {
      "text/plain": [
       "True"
      ]
     },
     "execution_count": 16,
     "metadata": {},
     "output_type": "execute_result"
    }
   ],
   "source": [
    "is_prime_slow(1000003)"
   ]
  },
  {
   "cell_type": "markdown",
   "metadata": {
    "id": "a2_C-DRco1Nk"
   },
   "source": [
    "I've chosen function names with \"fast\" and \"slow\" in them.  But what makes them faster or slower?  Are they faster than the original?  And how can we tell?\n",
    "\n",
    "Python comes with a great set of tools for these questions.  The simplest (for the user) are the time utilities.  By placing the **magic** `%timeit` before a command, Python does something like the following:\n",
    "\n",
    "1.  Python makes a little container in your computer devoted to the computations, to avoid interference from other running programs if possible.\n",
    "2.  Python executes the command lots and lots of times.\n",
    "3.  Python averages the amount of time taken for each execution.  \n",
    "\n",
    "Give it a try below, to compare the speed of the functions `is_prime` (the original) with the new `is_prime_fast` and `is_prime_slow`.  Note that the `%timeit` commands might take a little while."
   ]
  },
  {
   "cell_type": "code",
   "execution_count": 17,
   "metadata": {
    "id": "9362eqX8o1Nk"
   },
   "outputs": [
    {
     "name": "stdout",
     "output_type": "stream",
     "text": [
      "94.7 µs ± 559 ns per loop (mean ± std. dev. of 7 runs, 10000 loops each)\n"
     ]
    }
   ],
   "source": [
    "%timeit is_prime_fast(1000003)"
   ]
  },
  {
   "cell_type": "code",
   "execution_count": 18,
   "metadata": {
    "id": "GlQqgs6Fo1Nk"
   },
   "outputs": [
    {
     "name": "stdout",
     "output_type": "stream",
     "text": [
      "167 µs ± 214 ns per loop (mean ± std. dev. of 7 runs, 10000 loops each)\n"
     ]
    }
   ],
   "source": [
    "%timeit is_prime_slow(1000003)"
   ]
  },
  {
   "cell_type": "code",
   "execution_count": 19,
   "metadata": {
    "id": "MMoNyEsOo1Nk"
   },
   "outputs": [
    {
     "name": "stdout",
     "output_type": "stream",
     "text": [
      "80.9 ms ± 181 µs per loop (mean ± std. dev. of 7 runs, 10 loops each)\n"
     ]
    }
   ],
   "source": [
    "%timeit is_prime(1000003)"
   ]
  },
  {
   "cell_type": "markdown",
   "metadata": {
    "id": "uR7IkJbEo1Nk"
   },
   "source": [
    "Time is measured in seconds, milliseconds (1 ms = 1/1000 second), microseconds (1 µs = 1/1,000,000 second), and nanoseconds (1 ns = 1/1,000,000,000 second).  So it might appear at first that `is_prime` is the fastest, or about the same speed.  But check the units!  The other two approaches are about a thousand times faster!  How much faster were they on your computer?"
   ]
  },
  {
   "cell_type": "code",
   "execution_count": 20,
   "metadata": {
    "id": "hPOknCuUo1Nk"
   },
   "outputs": [
    {
     "data": {
      "text/plain": [
       "True"
      ]
     },
     "execution_count": 20,
     "metadata": {},
     "output_type": "execute_result"
    }
   ],
   "source": [
    "is_prime_fast(10000000000037)  # Don't try this with `is_prime` unless you want to wait for a long time!"
   ]
  },
  {
   "cell_type": "markdown",
   "metadata": {
    "id": "YtkronFFo1Nl"
   },
   "source": [
    "Indeed, the `is_prime_fast(n)` function will go through a loop of length about `sqrt(n)` when `n` is prime.  But `is_prime(n)` will go through a loop of length about `n`.  Since `sqrt(n)` is much less than `n`, especially when `n` is large, the `is_prime_fast(n)` function is much faster.\n",
    "\n",
    "Between `is_prime_fast` and `is_prime_slow`, the difference is that the `fast` version **precomputes** the square root `sqrt(n)` before going through the loop, where the `slow` version repeats the `sqrt(n)` every time the loop is repeated.  Indeed, writing `while j <= sqrt(n):` suggests that Python might execute `sqrt(n)` every time to check.  This *might* lead to Python computing the same square root a million times... unnecessarily!  \n",
    "\n",
    "A basic principle of programming is to **avoid repetition**.  If you have the memory space, just compute once and store the result.  It will probably be faster to pull the result out of memory than to compute it again.\n",
    "\n",
    "Python does tend to be pretty smart, however.  It's possible that Python **is precomputing** `sqrt(n)` even in the slow loop, just because it's clever enough to tell in advance that the same thing is being computed over and over again.  This depends on your Python version and takes place behind the scenes.  If you want to figure it out, there's a whole set of tools (for advanced programmers) like the [disassembler](https://docs.python.org/3/library/dis.html) to figure out what Python is doing.\n",
    "\n",
    "If you feel like looking under the hood, the next few lines will display the `is_prime_fast` and `is_prime_slow` functions to bytecode.  Can you see how the `sqrt(n)` computation is carried out differently?"
   ]
  },
  {
   "cell_type": "code",
   "execution_count": 21,
   "metadata": {
    "id": "hislzK3Lo1Nl"
   },
   "outputs": [],
   "source": [
    "from dis import dis"
   ]
  },
  {
   "cell_type": "code",
   "execution_count": 22,
   "metadata": {
    "id": "wQX1FSObo1Nl"
   },
   "outputs": [
    {
     "name": "stdout",
     "output_type": "stream",
     "text": [
      "  6           0 LOAD_CONST               1 (2)\n",
      "              2 STORE_FAST               1 (j)\n",
      "\n",
      "  7           4 LOAD_GLOBAL              0 (sqrt)\n",
      "              6 LOAD_FAST                0 (n)\n",
      "              8 CALL_FUNCTION            1\n",
      "             10 STORE_FAST               2 (root_n)\n",
      "\n",
      "  8     >>   12 LOAD_FAST                1 (j)\n",
      "             14 LOAD_FAST                2 (root_n)\n",
      "             16 COMPARE_OP               1 (<=)\n",
      "             18 POP_JUMP_IF_FALSE       62\n",
      "\n",
      "  9          20 LOAD_FAST                0 (n)\n",
      "             22 LOAD_FAST                1 (j)\n",
      "             24 BINARY_MODULO\n",
      "             26 LOAD_CONST               2 (0)\n",
      "             28 COMPARE_OP               2 (==)\n",
      "             30 POP_JUMP_IF_FALSE       52\n",
      "\n",
      " 10          32 LOAD_GLOBAL              1 (print)\n",
      "             34 LOAD_CONST               3 ('{} is a factor of {}.')\n",
      "             36 LOAD_METHOD              2 (format)\n",
      "             38 LOAD_FAST                1 (j)\n",
      "             40 LOAD_FAST                0 (n)\n",
      "             42 CALL_METHOD              2\n",
      "             44 CALL_FUNCTION            1\n",
      "             46 POP_TOP\n",
      "\n",
      " 11          48 LOAD_CONST               4 (False)\n",
      "             50 RETURN_VALUE\n",
      "\n",
      " 12     >>   52 LOAD_FAST                1 (j)\n",
      "             54 LOAD_CONST               5 (1)\n",
      "             56 BINARY_ADD\n",
      "             58 STORE_FAST               1 (j)\n",
      "             60 JUMP_ABSOLUTE           12\n",
      "\n",
      " 13     >>   62 LOAD_CONST               6 (True)\n",
      "             64 RETURN_VALUE\n"
     ]
    }
   ],
   "source": [
    "dis(is_prime_fast)"
   ]
  },
  {
   "cell_type": "code",
   "execution_count": 23,
   "metadata": {
    "id": "M_T0805ko1Nl"
   },
   "outputs": [
    {
     "name": "stdout",
     "output_type": "stream",
     "text": [
      "  6           0 LOAD_CONST               1 (2)\n",
      "              2 STORE_FAST               1 (j)\n",
      "\n",
      "  7     >>    4 LOAD_FAST                1 (j)\n",
      "              6 LOAD_GLOBAL              0 (sqrt)\n",
      "              8 LOAD_FAST                0 (n)\n",
      "             10 CALL_FUNCTION            1\n",
      "             12 COMPARE_OP               1 (<=)\n",
      "             14 POP_JUMP_IF_FALSE       58\n",
      "\n",
      "  8          16 LOAD_FAST                0 (n)\n",
      "             18 LOAD_FAST                1 (j)\n",
      "             20 BINARY_MODULO\n",
      "             22 LOAD_CONST               2 (0)\n",
      "             24 COMPARE_OP               2 (==)\n",
      "             26 POP_JUMP_IF_FALSE       48\n",
      "\n",
      "  9          28 LOAD_GLOBAL              1 (print)\n",
      "             30 LOAD_CONST               3 ('{} is a factor of {}.')\n",
      "             32 LOAD_METHOD              2 (format)\n",
      "             34 LOAD_FAST                1 (j)\n",
      "             36 LOAD_FAST                0 (n)\n",
      "             38 CALL_METHOD              2\n",
      "             40 CALL_FUNCTION            1\n",
      "             42 POP_TOP\n",
      "\n",
      " 10          44 LOAD_CONST               4 (False)\n",
      "             46 RETURN_VALUE\n",
      "\n",
      " 11     >>   48 LOAD_FAST                1 (j)\n",
      "             50 LOAD_CONST               5 (1)\n",
      "             52 BINARY_ADD\n",
      "             54 STORE_FAST               1 (j)\n",
      "             56 JUMP_ABSOLUTE            4\n",
      "\n",
      " 12     >>   58 LOAD_CONST               6 (True)\n",
      "             60 RETURN_VALUE\n"
     ]
    }
   ],
   "source": [
    "dis(is_prime_slow)"
   ]
  },
  {
   "cell_type": "code",
   "execution_count": 24,
   "metadata": {
    "id": "1mendW3Uo1Nl"
   },
   "outputs": [
    {
     "name": "stdout",
     "output_type": "stream",
     "text": [
      "1858741 is a factor of 100000000000037.\n"
     ]
    },
    {
     "data": {
      "text/plain": [
       "False"
      ]
     },
     "execution_count": 24,
     "metadata": {},
     "output_type": "execute_result"
    }
   ],
   "source": [
    "is_prime_fast(10**14 + 37) # This might get a bit of delay."
   ]
  },
  {
   "cell_type": "markdown",
   "metadata": {
    "id": "DUEOKxtoo1Nm"
   },
   "source": [
    "Now we have a function `is_prime_fast(n)` that is speedy for numbers `n` in the trillions!  You'll probably start to hit a delay around $10^{15}$ or so, and the delays will become intolerable if you add too many more digits.  In a future lesson, we will see a different primality test that will be essentially instant even for numbers around $10^{1000}$!  "
   ]
  },
  {
   "cell_type": "markdown",
   "metadata": {
    "id": "NCv3bAIco1Nm"
   },
   "source": [
    "### Exercises\n",
    "\n",
    "1.  To check whether a number `n` is prime, you can first check whether `n` is even, and then check whether `n` has any odd factors.  Change the `is_prime_fast` function by implementing this improvement.  How much of a speedup did you get?\n",
    "\n",
    "2.  Use the `%timeit` tool to study the speed of `is_prime_fast` for various sizes of `n`.  Using about 10 data points, relate the size of `n` to the time taken by the `is_prime_fast` function.\n",
    "\n",
    "3.  Write a function `is_square(n)` to test whether a given integer `n` is a perfect square (like 0, 1, 4, 9, 16, etc.).  How fast can you make it run?  Describe the different approaches you try and which are fastest."
   ]
  },
  {
   "cell_type": "markdown",
   "metadata": {},
   "source": [
    "### Question 1"
   ]
  },
  {
   "cell_type": "code",
   "execution_count": 25,
   "metadata": {},
   "outputs": [],
   "source": [
    "def new_is_prime_fast(n):\n",
    "    '''\n",
    "    Checks whether the argument n is a prime number.\n",
    "    Uses a brute force search for even factors between 1 and n.\n",
    "    '''\n",
    "    j = 3\n",
    "    root_n = sqrt(n)\n",
    "    if n % 2 == 0:\n",
    "        print(\"2 is a factor of {}.\".format(n))\n",
    "        return False\n",
    "    while j <= root_n:  # j will proceed through the list of odd numbers 3,5,... up to sqrt(n).\n",
    "        if n%j == 0:  # is n divisible by j?\n",
    "            #print(\"{} is a factor of {}.\".format(j,n))\n",
    "            return False\n",
    "        j += 2 \n",
    "    return True"
   ]
  },
  {
   "cell_type": "code",
   "execution_count": 26,
   "metadata": {
    "scrolled": true
   },
   "outputs": [
    {
     "name": "stdout",
     "output_type": "stream",
     "text": [
      "3.01 ms ± 38.8 µs per loop (mean ± std. dev. of 7 runs, 100 loops each)\n"
     ]
    }
   ],
   "source": [
    "%timeit new_is_prime_fast(2147483647)"
   ]
  },
  {
   "cell_type": "code",
   "execution_count": 27,
   "metadata": {
    "scrolled": true
   },
   "outputs": [
    {
     "name": "stdout",
     "output_type": "stream",
     "text": [
      "5.93 ms ± 20.7 µs per loop (mean ± std. dev. of 7 runs, 100 loops each)\n"
     ]
    }
   ],
   "source": [
    "%timeit is_prime_fast(2147483647)"
   ]
  },
  {
   "cell_type": "markdown",
   "metadata": {},
   "source": [
    "Unsurprisingly, the new function is about twice as fast."
   ]
  },
  {
   "cell_type": "markdown",
   "metadata": {},
   "source": [
    "### Question 2"
   ]
  },
  {
   "cell_type": "markdown",
   "metadata": {},
   "source": [
    "First, let's check that our function works for primes of various lengths."
   ]
  },
  {
   "cell_type": "code",
   "execution_count": 28,
   "metadata": {},
   "outputs": [
    {
     "data": {
      "text/plain": [
       "[True, True, True, True, True, True, True, True, True, True]"
      ]
     },
     "execution_count": 28,
     "metadata": {},
     "output_type": "execute_result"
    }
   ],
   "source": [
    "[new_is_prime_fast(7),\n",
    "new_is_prime_fast(31),\n",
    "new_is_prime_fast(127),\n",
    "new_is_prime_fast(8191),\n",
    "new_is_prime_fast(97259),\n",
    "new_is_prime_fast(524287),\n",
    "new_is_prime_fast(9375739),\n",
    "new_is_prime_fast(86028121),\n",
    "new_is_prime_fast(633910099),\n",
    "new_is_prime_fast(2147483647)]"
   ]
  },
  {
   "cell_type": "markdown",
   "metadata": {},
   "source": [
    "Now, let's time it."
   ]
  },
  {
   "cell_type": "code",
   "execution_count": 29,
   "metadata": {
    "scrolled": false
   },
   "outputs": [
    {
     "name": "stdout",
     "output_type": "stream",
     "text": [
      "Checking time to run new_is_prime_fast(7)\n",
      "210 ns ± 1.43 ns per loop (mean ± std. dev. of 7 runs, 1000000 loops each)\n",
      "Checking time to run new_is_prime_fast(31)\n",
      "402 ns ± 0.33 ns per loop (mean ± std. dev. of 7 runs, 1000000 loops each)\n",
      "Checking time to run new_is_prime_fast(127)\n",
      "658 ns ± 0.952 ns per loop (mean ± std. dev. of 7 runs, 1000000 loops each)\n",
      "Checking time to run new_is_prime_fast(8191)\n",
      "3.98 µs ± 26.3 ns per loop (mean ± std. dev. of 7 runs, 100000 loops each)\n",
      "Checking time to run new_is_prime_fast(97259)\n",
      "13.6 µs ± 121 ns per loop (mean ± std. dev. of 7 runs, 100000 loops each)\n",
      "Checking time to run new_is_prime_fast(524287)\n",
      "34.4 µs ± 728 ns per loop (mean ± std. dev. of 7 runs, 10000 loops each)\n",
      "Checking time to run new_is_prime_fast(9375739)\n",
      "153 µs ± 1.82 µs per loop (mean ± std. dev. of 7 runs, 10000 loops each)\n",
      "Checking time to run new_is_prime_fast(86028121)\n",
      "1.52 ms ± 2.13 µs per loop (mean ± std. dev. of 7 runs, 1000 loops each)\n",
      "Checking time to run new_is_prime_fast(633910099)\n",
      "1.25 ms ± 4.22 µs per loop (mean ± std. dev. of 7 runs, 1000 loops each)\n",
      "Checking time to run new_is_prime_fast(2147483647)\n",
      "3.02 ms ± 40.3 µs per loop (mean ± std. dev. of 7 runs, 100 loops each)\n"
     ]
    }
   ],
   "source": [
    "print(\"Checking time to run new_is_prime_fast(7)\")\n",
    "%timeit new_is_prime_fast(7)\n",
    "print(\"Checking time to run new_is_prime_fast(31)\")\n",
    "%timeit new_is_prime_fast(31)\n",
    "print(\"Checking time to run new_is_prime_fast(127)\")\n",
    "%timeit new_is_prime_fast(127)\n",
    "print(\"Checking time to run new_is_prime_fast(8191)\")\n",
    "%timeit new_is_prime_fast(8191)\n",
    "print(\"Checking time to run new_is_prime_fast(97259)\")\n",
    "%timeit new_is_prime_fast(97259)\n",
    "print(\"Checking time to run new_is_prime_fast(524287)\")\n",
    "%timeit new_is_prime_fast(524287)\n",
    "print(\"Checking time to run new_is_prime_fast(9375739)\")\n",
    "%timeit new_is_prime_fast(9375739)\n",
    "print(\"Checking time to run new_is_prime_fast(86028121)\")\n",
    "%timeit new_is_prime_fast(949425121)\n",
    "print(\"Checking time to run new_is_prime_fast(633910099)\")\n",
    "%timeit new_is_prime_fast(633910099)\n",
    "print(\"Checking time to run new_is_prime_fast(2147483647)\")\n",
    "%timeit new_is_prime_fast(2147483647)"
   ]
  },
  {
   "cell_type": "markdown",
   "metadata": {},
   "source": [
    "Here's a nice plot that graphs the log base 10 of the prime against how long the %timeit took. There's a significant jump from the 7 digit prime to the 8 digit prime, and I'm not sure what causes it. The digits used in the graph aren't exactly the same as the ones in the above %timeit because I had to re-run the cell."
   ]
  },
  {
   "cell_type": "code",
   "execution_count": 30,
   "metadata": {},
   "outputs": [
    {
     "data": {
      "text/plain": [
       "Text(0, 0.5, 'Time of check (ns)')"
      ]
     },
     "execution_count": 30,
     "metadata": {},
     "output_type": "execute_result"
    },
    {
     "data": {
      "image/png": "[encoded data removed]",
      "text/plain": [
       "<Figure size 432x288 with 1 Axes>"
      ]
     },
     "metadata": {
      "needs_background": "light"
     },
     "output_type": "display_data"
    }
   ],
   "source": [
    "import matplotlib.pyplot as plt\n",
    "import math\n",
    "primes = [7, 31, 127, 8191, 97259, 524287, 9375739, 86028121, 633910099, 2147483647]\n",
    "primes_log_10 = [math.log10(i) for i in primes]\n",
    "times = [216, 416, 676, 4004, 13800, 34600, 154000, 1550000, 1270000, 3060000]\n",
    "plt.plot(primes_log_10,times)\n",
    "plt.xlabel(\"Log base 10 of prime checked\")\n",
    "plt.ylabel(\"Time of check (ns)\")"
   ]
  },
  {
   "cell_type": "markdown",
   "metadata": {},
   "source": [
    "### Question 3"
   ]
  },
  {
   "cell_type": "code",
   "execution_count": 31,
   "metadata": {},
   "outputs": [],
   "source": [
    "import math\n",
    "def is_square_for(n):\n",
    "    root_n = math.floor(sqrt(n)) + 1\n",
    "    for i in range(root_n):\n",
    "        if i**2 == n:\n",
    "            return True\n",
    "    return False"
   ]
  },
  {
   "cell_type": "code",
   "execution_count": 32,
   "metadata": {
    "scrolled": false
   },
   "outputs": [
    {
     "name": "stdout",
     "output_type": "stream",
     "text": [
      "531 µs ± 1.99 µs per loop (mean ± std. dev. of 7 runs, 1000 loops each)\n"
     ]
    }
   ],
   "source": [
    "%timeit is_square_for(9375739)"
   ]
  },
  {
   "cell_type": "markdown",
   "metadata": {},
   "source": [
    "This is what I tried at first. After staring at it for a bit, I realized that the only number that could possible return `True` is the square root of `n`. So, I just needed to check if that number is an integer."
   ]
  },
  {
   "cell_type": "code",
   "execution_count": 33,
   "metadata": {},
   "outputs": [],
   "source": [
    "import math\n",
    "def is_square_floor(n):\n",
    "    sqrt_n = sqrt(n)\n",
    "    if math.floor(sqrt_n) == math.ceil(sqrt_n):\n",
    "        return True\n",
    "    return False"
   ]
  },
  {
   "cell_type": "code",
   "execution_count": 34,
   "metadata": {},
   "outputs": [
    {
     "name": "stdout",
     "output_type": "stream",
     "text": [
      "439 ns ± 2.64 ns per loop (mean ± std. dev. of 7 runs, 1000000 loops each)\n"
     ]
    }
   ],
   "source": [
    "%timeit is_square_floor(9375739)"
   ]
  },
  {
   "cell_type": "markdown",
   "metadata": {},
   "source": [
    "This program doesn't have a loop, it just checks if `sqrt(n)` is an integer, since `floor(n) == ceil(n)` if `n` is an integer. But, I realized that there is a faster way to perform this check."
   ]
  },
  {
   "cell_type": "code",
   "execution_count": 35,
   "metadata": {},
   "outputs": [],
   "source": [
    "import math\n",
    "def is_square(n):\n",
    "    if sqrt(n) % 1 == 0:\n",
    "        return True\n",
    "    return False"
   ]
  },
  {
   "cell_type": "code",
   "execution_count": 36,
   "metadata": {
    "scrolled": true
   },
   "outputs": [
    {
     "name": "stdout",
     "output_type": "stream",
     "text": [
      "190 ns ± 0.719 ns per loop (mean ± std. dev. of 7 runs, 10000000 loops each)\n"
     ]
    }
   ],
   "source": [
    "%timeit is_square(9375739)"
   ]
  },
  {
   "cell_type": "markdown",
   "metadata": {},
   "source": [
    "This is the best version that I could come up with. It looks like computing `sqrt(n) % 1` is a lot faster than rounding two numbers."
   ]
  },
  {
   "cell_type": "markdown",
   "metadata": {
    "id": "J_Xx10hBo1Nm"
   },
   "source": [
    "## List manipulation"
   ]
  },
  {
   "cell_type": "markdown",
   "metadata": {
    "id": "7Wd7YSnxo1Nm"
   },
   "source": [
    "We have already (briefly) encountered the `list` type in Python.  Recall that the `range` command produces a range, which can be used to produce a list.  For example, `list(range(10))` produces the list `[0,1,2,3,4,5,6,7,8,9]`.  You can also create your own list by a writing out its terms, e.g. `L = [4,7,10]`.\n",
    "\n",
    "Here we work with lists, and a very Pythonic approach to list manipulation.  With practice, this can be a powerful tool to write fast algorithms, exploiting the hard-wired capability of your computer to shift and slice large chunks of data.  Our eventual application will be to implement the Sieve of Eratosthenes, producing a long list of prime numbers (without using any `is_prime` test along the way)."
   ]
  },
  {
   "cell_type": "markdown",
   "metadata": {
    "id": "60AyLZgto1Nm"
   },
   "source": [
    "We begin by creating a list to play with.  We mix numbers and strings... just for fun."
   ]
  },
  {
   "cell_type": "code",
   "execution_count": 37,
   "metadata": {
    "id": "LqlPEQ6jo1Nm"
   },
   "outputs": [],
   "source": [
    "L = [0,'one',2,'three',4,'five',6,'seven',8,'nine',10]"
   ]
  },
  {
   "cell_type": "markdown",
   "metadata": {
    "id": "k3Isc4hVo1Nm"
   },
   "source": [
    "### List terms and indices\n",
    "\n",
    "Notice that the entries in a list can be of any type.  The above list `L` has some integer entries and some string entries.  Lists are **ordered** in Python, **starting at zero**.  One can access the $n^{th}$ entry in a list with a command like `L[n]`.  "
   ]
  },
  {
   "cell_type": "code",
   "execution_count": 38,
   "metadata": {
    "id": "P6pVVcg7o1Nn"
   },
   "outputs": [
    {
     "data": {
      "text/plain": [
       "'three'"
      ]
     },
     "execution_count": 38,
     "metadata": {},
     "output_type": "execute_result"
    }
   ],
   "source": [
    "L[3]"
   ]
  },
  {
   "cell_type": "code",
   "execution_count": 39,
   "metadata": {
    "id": "jX8qwH8Co1Nn"
   },
   "outputs": [
    {
     "name": "stdout",
     "output_type": "stream",
     "text": [
      "three\n"
     ]
    }
   ],
   "source": [
    "print(L[3])  # Note that Python has slightly different approaches to the print-function, and the output above."
   ]
  },
  {
   "cell_type": "code",
   "execution_count": 40,
   "metadata": {
    "id": "SrEwDHyRo1Nn"
   },
   "outputs": [
    {
     "name": "stdout",
     "output_type": "stream",
     "text": [
      "4\n"
     ]
    }
   ],
   "source": [
    "print(L[4])  # We will use the print function, because it makes our printing intentions clear."
   ]
  },
  {
   "cell_type": "code",
   "execution_count": 41,
   "metadata": {
    "id": "Z-ZCNLx4o1Nn"
   },
   "outputs": [
    {
     "name": "stdout",
     "output_type": "stream",
     "text": [
      "0\n"
     ]
    }
   ],
   "source": [
    "print(L[0])"
   ]
  },
  {
   "cell_type": "markdown",
   "metadata": {
    "id": "9Rd1gPF9o1Nn"
   },
   "source": [
    "The location of an entry is called its **index**.  So *at* the index 3, the list `L` stores the entry `three`.  Note that the same entry can occur in many places in a list.  E.g. `[7,7,7]` is a list with 7 at the zeroth, first, and second index."
   ]
  },
  {
   "cell_type": "code",
   "execution_count": 42,
   "metadata": {
    "id": "SHWaHBmAo1Nn"
   },
   "outputs": [
    {
     "name": "stdout",
     "output_type": "stream",
     "text": [
      "10\n",
      "nine\n"
     ]
    }
   ],
   "source": [
    "print(L[-1])\n",
    "print(L[-2])"
   ]
  },
  {
   "cell_type": "markdown",
   "metadata": {
    "id": "N8U8KO9Do1Nn"
   },
   "source": [
    "The last bit of code demonstrates a cool Python trick.  The \"-1st\" entry in a list refers to the last entry. The \"-2nd entry\" refers to the second-to-last entry, and so on.  It gives a convenient way to access both sides of the list, even if you don't know how long it is.\n",
    "\n",
    "Of course, you can use Python to find out how long a list is."
   ]
  },
  {
   "cell_type": "code",
   "execution_count": 43,
   "metadata": {
    "id": "U69qteuto1Nn"
   },
   "outputs": [
    {
     "data": {
      "text/plain": [
       "11"
      ]
     },
     "execution_count": 43,
     "metadata": {},
     "output_type": "execute_result"
    }
   ],
   "source": [
    "len(L)"
   ]
  },
  {
   "cell_type": "markdown",
   "metadata": {
    "id": "pVI66GEIo1No"
   },
   "source": [
    "You can also use Python to find the sum of a list of numbers."
   ]
  },
  {
   "cell_type": "code",
   "execution_count": 44,
   "metadata": {
    "id": "XmBojrfto1No"
   },
   "outputs": [
    {
     "data": {
      "text/plain": [
       "15"
      ]
     },
     "execution_count": 44,
     "metadata": {},
     "output_type": "execute_result"
    }
   ],
   "source": [
    "sum([1,2,3,4,5])"
   ]
  },
  {
   "cell_type": "code",
   "execution_count": 45,
   "metadata": {
    "id": "7vO8uSwho1No"
   },
   "outputs": [
    {
     "data": {
      "text/plain": [
       "4950"
      ]
     },
     "execution_count": 45,
     "metadata": {},
     "output_type": "execute_result"
    }
   ],
   "source": [
    "sum(range(100))  # Be careful.  This is the sum of which numbers?  # The sum function can take lists or ranges."
   ]
  },
  {
   "cell_type": "markdown",
   "metadata": {
    "id": "Gk4qkCSEo1No"
   },
   "source": [
    "### List slicing\n",
    "\n",
    "**Slicing** lists allows us to create new lists (or ranges) from old lists (or ranges), by chopping off one end or the other, or even slicing out entries at a fixed interval.  The simplest syntax has the form `L[a:b]` where `a` denotes the index of the starting entry and index of the final entry is one less than `b`.  It is best to try a few examples to get a feel for it.\n",
    "\n",
    "Slicing a list with a command like `L[a:b]` doesn't actually *change* the original list `L`.  It just extracts some terms from the list and outputs those terms.  Soon enough, we will change the list `L` using a list assignment."
   ]
  },
  {
   "cell_type": "code",
   "execution_count": 46,
   "metadata": {
    "id": "8QNDpqJ9o1No"
   },
   "outputs": [
    {
     "data": {
      "text/plain": [
       "[0, 'one', 2, 'three', 4]"
      ]
     },
     "execution_count": 46,
     "metadata": {},
     "output_type": "execute_result"
    }
   ],
   "source": [
    "L[0:5]"
   ]
  },
  {
   "cell_type": "code",
   "execution_count": 47,
   "metadata": {
    "id": "gzEnfHqvo1No"
   },
   "outputs": [
    {
     "data": {
      "text/plain": [
       "['five', 6, 'seven', 8, 'nine', 10]"
      ]
     },
     "execution_count": 47,
     "metadata": {},
     "output_type": "execute_result"
    }
   ],
   "source": [
    "L[5:11]  # Notice that L[0:5] and L[5:11] together recover the whole list."
   ]
  },
  {
   "cell_type": "code",
   "execution_count": 48,
   "metadata": {
    "id": "MOzb4reTo1No"
   },
   "outputs": [
    {
     "data": {
      "text/plain": [
       "['three', 4, 'five', 6]"
      ]
     },
     "execution_count": 48,
     "metadata": {},
     "output_type": "execute_result"
    }
   ],
   "source": [
    "L[3:7]"
   ]
  },
  {
   "cell_type": "markdown",
   "metadata": {
    "id": "Z1VPqRtoo1No"
   },
   "source": [
    "This continues the strange (for beginners) Python convention of starting at the first number and ending just before the last number.  Compare to `range(3,7)`, for example.  "
   ]
  },
  {
   "cell_type": "markdown",
   "metadata": {
    "id": "MrnvG511o1No"
   },
   "source": [
    "The command `L[0:5]` can be replaced by `L[:5]` to abbreviate.  The empty opening index tells Python to start at the beginning.  Similarly, the command `L[5:11]` can be replaced by `L[5:]`.  The empty closing index tells Python to end the slice and the end.  This is helpful if one doesn't know where the list ends."
   ]
  },
  {
   "cell_type": "code",
   "execution_count": 49,
   "metadata": {
    "id": "-jgLcoWWo1Nq"
   },
   "outputs": [
    {
     "data": {
      "text/plain": [
       "[0, 'one', 2, 'three', 4]"
      ]
     },
     "execution_count": 49,
     "metadata": {},
     "output_type": "execute_result"
    }
   ],
   "source": [
    "L[:5]"
   ]
  },
  {
   "cell_type": "code",
   "execution_count": 50,
   "metadata": {
    "id": "RC8VS_66o1Nq"
   },
   "outputs": [
    {
     "data": {
      "text/plain": [
       "['three', 4, 'five', 6, 'seven', 8, 'nine', 10]"
      ]
     },
     "execution_count": 50,
     "metadata": {},
     "output_type": "execute_result"
    }
   ],
   "source": [
    "L[3:]"
   ]
  },
  {
   "cell_type": "markdown",
   "metadata": {
    "id": "NNnM3hfOo1Nq"
   },
   "source": [
    "Just like the `range` command, list slicing can take an optional third argument to give a step size.  To understand this, try the command below."
   ]
  },
  {
   "cell_type": "code",
   "execution_count": 51,
   "metadata": {
    "id": "zoxAvxDdo1Nq"
   },
   "outputs": [
    {
     "data": {
      "text/plain": [
       "[2, 'three', 4, 'five', 6, 'seven', 8, 'nine']"
      ]
     },
     "execution_count": 51,
     "metadata": {},
     "output_type": "execute_result"
    }
   ],
   "source": [
    "L[2:10]"
   ]
  },
  {
   "cell_type": "code",
   "execution_count": 52,
   "metadata": {
    "id": "81Afdz7do1Nq"
   },
   "outputs": [
    {
     "data": {
      "text/plain": [
       "[2, 'five', 8]"
      ]
     },
     "execution_count": 52,
     "metadata": {},
     "output_type": "execute_result"
    }
   ],
   "source": [
    "L[2:10:3]"
   ]
  },
  {
   "cell_type": "markdown",
   "metadata": {
    "id": "Ge3CcbYbo1Nq"
   },
   "source": [
    "If, in this three-argument syntax, the first or second argument is absent, then the slice starts at the beginning of the list or ends at the end of the list accordingly."
   ]
  },
  {
   "cell_type": "code",
   "execution_count": 53,
   "metadata": {
    "id": "qpComE9ao1Nq"
   },
   "outputs": [
    {
     "data": {
      "text/plain": [
       "[0, 'one', 2, 'three', 4, 'five', 6, 'seven', 8, 'nine', 10]"
      ]
     },
     "execution_count": 53,
     "metadata": {},
     "output_type": "execute_result"
    }
   ],
   "source": [
    "L  # Just a reminder.  We haven't modified the original list!"
   ]
  },
  {
   "cell_type": "code",
   "execution_count": 54,
   "metadata": {
    "id": "4tDS36jCo1Nr"
   },
   "outputs": [
    {
     "data": {
      "text/plain": [
       "[0, 'three', 6]"
      ]
     },
     "execution_count": 54,
     "metadata": {},
     "output_type": "execute_result"
    }
   ],
   "source": [
    "L[:9:3]  # Start at zero, go up to (but not including) 9, by steps of 3."
   ]
  },
  {
   "cell_type": "code",
   "execution_count": 55,
   "metadata": {
    "id": "MFr4nObSo1Nr"
   },
   "outputs": [
    {
     "data": {
      "text/plain": [
       "[2, 'five', 8]"
      ]
     },
     "execution_count": 55,
     "metadata": {},
     "output_type": "execute_result"
    }
   ],
   "source": [
    "L[2: :3] # Start at two, go up through the end of the list, by steps of 3."
   ]
  },
  {
   "cell_type": "code",
   "execution_count": 56,
   "metadata": {
    "id": "X-EpKfF4o1Nr"
   },
   "outputs": [
    {
     "data": {
      "text/plain": [
       "[0, 'three', 6, 'nine']"
      ]
     },
     "execution_count": 56,
     "metadata": {},
     "output_type": "execute_result"
    }
   ],
   "source": [
    "L[::3]  # Start at zero, go up through the end of the list, by steps of 3."
   ]
  },
  {
   "cell_type": "markdown",
   "metadata": {
    "id": "2dTiwVYho1Nr"
   },
   "source": [
    "### Changing list slices"
   ]
  },
  {
   "cell_type": "markdown",
   "metadata": {
    "id": "4y5zku1Mo1Nr"
   },
   "source": [
    "Not only can we extract and study terms or slices of a list, we can change them by assignment.  The simplest case would be changing a single term of a list."
   ]
  },
  {
   "cell_type": "code",
   "execution_count": 57,
   "metadata": {
    "id": "OfPbYfsPo1Nr"
   },
   "outputs": [
    {
     "name": "stdout",
     "output_type": "stream",
     "text": [
      "[0, 'one', 2, 'three', 4, 'five', 6, 'seven', 8, 'nine', 10]\n"
     ]
    }
   ],
   "source": [
    "print(L) # Start with the list L."
   ]
  },
  {
   "cell_type": "code",
   "execution_count": 58,
   "metadata": {
    "id": "UIvNYPDDo1Nr"
   },
   "outputs": [],
   "source": [
    "L[5] = 'Bacon!'"
   ]
  },
  {
   "cell_type": "code",
   "execution_count": 59,
   "metadata": {
    "id": "RLd45i_No1Nr"
   },
   "outputs": [
    {
     "name": "stdout",
     "output_type": "stream",
     "text": [
      "[0, 'one', 2, 'three', 4, 'Bacon!', 6, 'seven', 8, 'nine', 10]\n"
     ]
    }
   ],
   "source": [
    "print(L)  # What do you think L is now?"
   ]
  },
  {
   "cell_type": "code",
   "execution_count": 60,
   "metadata": {
    "id": "B6G0Uga9o1Nr"
   },
   "outputs": [
    {
     "name": "stdout",
     "output_type": "stream",
     "text": [
      "[2, 'Bacon!', 8]\n"
     ]
    }
   ],
   "source": [
    "print(L[2::3]) # What do you think this will do?"
   ]
  },
  {
   "cell_type": "markdown",
   "metadata": {
    "id": "uGennJ2qo1Nr"
   },
   "source": [
    "We can change an entire slice of a list with a single assignment.  Let's change the first two terms of `L` in one line."
   ]
  },
  {
   "cell_type": "code",
   "execution_count": 61,
   "metadata": {
    "id": "y2qRmtGpo1Nr"
   },
   "outputs": [],
   "source": [
    "L[:2] = ['Pancakes', 'Ham']  # What was L[:2] before?"
   ]
  },
  {
   "cell_type": "code",
   "execution_count": 62,
   "metadata": {
    "id": "ovOM7CW5o1Ns"
   },
   "outputs": [
    {
     "name": "stdout",
     "output_type": "stream",
     "text": [
      "['Pancakes', 'Ham', 2, 'three', 4, 'Bacon!', 6, 'seven', 8, 'nine', 10]\n"
     ]
    }
   ],
   "source": [
    "print(L) # Oh... what have we done!"
   ]
  },
  {
   "cell_type": "code",
   "execution_count": 63,
   "metadata": {
    "id": "xaVOdSGdo1Ns"
   },
   "outputs": [
    {
     "data": {
      "text/plain": [
       "'Pancakes'"
      ]
     },
     "execution_count": 63,
     "metadata": {},
     "output_type": "execute_result"
    }
   ],
   "source": [
    "L[0]"
   ]
  },
  {
   "cell_type": "code",
   "execution_count": 64,
   "metadata": {
    "id": "7VzDxYkvo1Ns"
   },
   "outputs": [
    {
     "data": {
      "text/plain": [
       "'Ham'"
      ]
     },
     "execution_count": 64,
     "metadata": {},
     "output_type": "execute_result"
    }
   ],
   "source": [
    "L[1]"
   ]
  },
  {
   "cell_type": "code",
   "execution_count": 65,
   "metadata": {
    "id": "XEExh5vko1Ns"
   },
   "outputs": [
    {
     "data": {
      "text/plain": [
       "2"
      ]
     },
     "execution_count": 65,
     "metadata": {},
     "output_type": "execute_result"
    }
   ],
   "source": [
    "L[2]"
   ]
  },
  {
   "cell_type": "markdown",
   "metadata": {
    "id": "G5jugoLbo1Ns"
   },
   "source": [
    "We can change a slice of a list with a single assignment, even when that slice does not consist of consecutive terms.  Try to predict what the following commands will do."
   ]
  },
  {
   "cell_type": "code",
   "execution_count": 66,
   "metadata": {
    "id": "U9HQud-4o1Ns"
   },
   "outputs": [
    {
     "name": "stdout",
     "output_type": "stream",
     "text": [
      "['Pancakes', 'Ham', 2, 'three', 4, 'Bacon!', 6, 'seven', 8, 'nine', 10]\n"
     ]
    }
   ],
   "source": [
    "print(L)  # Let's see what the list looks like before."
   ]
  },
  {
   "cell_type": "code",
   "execution_count": 67,
   "metadata": {
    "id": "WaeNsMU8o1Ns"
   },
   "outputs": [],
   "source": [
    "L[::2] = ['A','B','C','D','E','F']  # What was L[::2] before this assignment? "
   ]
  },
  {
   "cell_type": "code",
   "execution_count": 68,
   "metadata": {
    "id": "e4DFQ2ZBo1Ns"
   },
   "outputs": [
    {
     "name": "stdout",
     "output_type": "stream",
     "text": [
      "['A', 'Ham', 'B', 'three', 'C', 'Bacon!', 'D', 'seven', 'E', 'nine', 'F']\n"
     ]
    }
   ],
   "source": [
    "print(L)  # What do you predict?"
   ]
  },
  {
   "cell_type": "markdown",
   "metadata": {
    "id": "g7PBhl-1o1Ns"
   },
   "source": [
    "## List methods"
   ]
  },
  {
   "cell_type": "markdown",
   "metadata": {
    "id": "E4_oZBZYo1Ns"
   },
   "source": [
    "A method is a function that is attached to an object.  We have already used one method:  the `format` method that is attached to all strings.  You might have seen the `replace` method for strings too.  Note that single-quotes `'Hello'` or double-quotes `\"Hello\"` can be used for strings."
   ]
  },
  {
   "cell_type": "code",
   "execution_count": 69,
   "metadata": {
    "id": "A9ZJsXNFo1Ns"
   },
   "outputs": [
    {
     "data": {
      "text/plain": [
       "'Hello programming student!'"
      ]
     },
     "execution_count": 69,
     "metadata": {},
     "output_type": "execute_result"
    }
   ],
   "source": [
    "\"Hello {}!\".format('programming student')"
   ]
  },
  {
   "cell_type": "code",
   "execution_count": 70,
   "metadata": {
    "id": "rWpWVH7eo1Nt"
   },
   "outputs": [
    {
     "data": {
      "text/plain": [
       "'Programming is lit!'"
      ]
     },
     "execution_count": 70,
     "metadata": {},
     "output_type": "execute_result"
    }
   ],
   "source": [
    "\"Programming is fun!\".replace('fun','lit')"
   ]
  },
  {
   "cell_type": "markdown",
   "metadata": {
    "id": "o_HBkyp_o1Nt"
   },
   "source": [
    "List methods are functions attached to lists.  Some useful methods include `append` and `sort`.  A fuller listing can be found at [the official documentation](https://docs.python.org/3/tutorial/datastructures.html)."
   ]
  },
  {
   "cell_type": "code",
   "execution_count": 71,
   "metadata": {
    "id": "_KkgeG-yo1Nt"
   },
   "outputs": [
    {
     "name": "stdout",
     "output_type": "stream",
     "text": [
      "[1, 2, 3, 4]\n"
     ]
    }
   ],
   "source": [
    "L = [1,2,3]\n",
    "L.append(4)\n",
    "print(L)"
   ]
  },
  {
   "cell_type": "markdown",
   "metadata": {
    "id": "VjkSU8Eyo1Nt"
   },
   "source": [
    "The `append` method can be used to add new items to the end of a list.  But be careful if you want to add multiple items!"
   ]
  },
  {
   "cell_type": "code",
   "execution_count": 72,
   "metadata": {
    "id": "aS1Nuu84o1Nt"
   },
   "outputs": [
    {
     "name": "stdout",
     "output_type": "stream",
     "text": [
      "[1, 2, 3, 4, [5, 6]]\n"
     ]
    }
   ],
   "source": [
    "L.append([5,6])\n",
    "print(L)"
   ]
  },
  {
   "cell_type": "markdown",
   "metadata": {
    "id": "THb1IcA6o1Nt"
   },
   "source": [
    "Behind the scenes, methods are functions which have a special input parameter called `self`.  So when you use a command like `L.append(4)`, you are effectively running `append(L, 4)`.  The `self` parameter is the object the method is attached to.\n",
    "\n",
    "Like all functions, methods have outputs too.  But what can be confusing is that methods can *modify* `self` and can sometimes *return* `None`.  "
   ]
  },
  {
   "cell_type": "code",
   "execution_count": 73,
   "metadata": {
    "id": "TdOwNbHvo1Nt"
   },
   "outputs": [
    {
     "name": "stdout",
     "output_type": "stream",
     "text": [
      "None\n",
      "124\n"
     ]
    }
   ],
   "source": [
    "print([1,2,3].append(4))\n",
    "print(\"123\".replace(\"3\",\"4\"))"
   ]
  },
  {
   "cell_type": "markdown",
   "metadata": {
    "id": "CNutNo0ro1Nt"
   },
   "source": [
    "This is very confusing at first!  The list `append` method *does* change `self` by appending something to `self`.  But as a function, it returns `None`.  \n",
    "\n",
    "On the other hand, the string `replace` method *does not* change `self` and instead *returns* the modified string.\n",
    "\n",
    "This will make more sense after we study *mutable* and *immutable* types.  Lists are mutable (and thus are often changed by their methods).  Strings are immutable, and so changes are effected by producing new strings.  Another example of a string method is `sort()`.  The only parameter of `sort` is `self`, and so nothing needs to go between the paraentheses."
   ]
  },
  {
   "cell_type": "code",
   "execution_count": 74,
   "metadata": {
    "id": "iOJkQ3cIo1Nt"
   },
   "outputs": [
    {
     "name": "stdout",
     "output_type": "stream",
     "text": [
      "[1, 2, 4]\n"
     ]
    }
   ],
   "source": [
    "L = [4,2,1]  # Make a list.\n",
    "L.sort()  # Sort the list.  This *changes* L and returns None.\n",
    "print(L)  # Let's see what L is now."
   ]
  },
  {
   "cell_type": "code",
   "execution_count": 75,
   "metadata": {
    "id": "ZDaPzUUjo1Nt"
   },
   "outputs": [
    {
     "name": "stdout",
     "output_type": "stream",
     "text": [
      "['Apple', 'Cat', 'Dog', 'Ukelele']\n"
     ]
    }
   ],
   "source": [
    "L = ['Ukelele', 'Apple', 'Dog', 'Cat' ]\n",
    "L.sort()\n",
    "print(L)"
   ]
  },
  {
   "cell_type": "markdown",
   "metadata": {
    "id": "2ibPAiCCo1Nu"
   },
   "source": [
    "Sorting numbers is possible, because the Python operator `<` is defined for numbers.  Sorting strings is possible, because the Python operator `<` is interpreted alphabetically among strings.  If you mix types, Python might not know how to behave... you'll get a TypeError."
   ]
  },
  {
   "cell_type": "code",
   "execution_count": 76,
   "metadata": {
    "id": "EmIGZqSQo1Nu"
   },
   "outputs": [
    {
     "name": "stdout",
     "output_type": "stream",
     "text": [
      "['1', '3.14', 'Apple']\n"
     ]
    }
   ],
   "source": [
    "L = ['1','Apple', '3.14']\n",
    "L.sort()\n",
    "print(L)"
   ]
  },
  {
   "cell_type": "markdown",
   "metadata": {
    "id": "RMN4XjXHo1Nu"
   },
   "source": [
    "### Exercises\n",
    "\n",
    "1.  Create a list L with L = [1,2,3,...,100] (all the numbers from 1 to 100).  What is L[50]?\n",
    "\n",
    "2.  Take the same list L, and extract a slice of the form [5,10,15,...,95] with a command of the form L[a:b:c].\n",
    "\n",
    "3.  Take the same list L, and change all the even numbers to zeros, so that L looks like [1,0,3,0,5,0,...,99,0].  Hint:  You might wish to use the list [0]*50.\n",
    "\n",
    "4.  Try the command `L[-1::-1]` on a list.  What does it do?  Can you guess before executing it?  Can you understand why?  In fact, strings are indexed like lists.  Try setting `L = 'Hello'` and the previous command.\n",
    "\n",
    "5.  Create the list [1,100,3,98,5,96,...,99,2], where the odd terms are in order and the even terms are in reverse order.  There are multiple methods!\n",
    "\n",
    "6.  Use the append method with a loop to create a list of perfect squares, [0,1,4,9,16,25,...,10000].\n",
    "\n",
    "7.  Create a list of 52 \"cards\" to resemble a standard card deck.  The suits can be denoted C,S,D,H for clubs, spades, diamonds, and hearts.  The numbers can be denoted 1-13 (with Ace = 1, Jack = 11, Queen = 12, King = 13).  So \"9H\" would be the 9 of hearts, and 12S the queen of spades.  Your list L should contain every card.  \n",
    "\n",
    "8.  Challenge:  write a function which performs a \"perfect riffle shuffle\" on a list of cards.  This shuffle should have the effect of dividing the deck into two equal pieces, and then precisely interlacing the two pieces to form a new list.  E.g., an input list of `[1,2,3,4,5,6]` should be broken into `[1,2,3]` and `[4,5,6]` and then interlaced as `[1,4,2,5,3,6]`."
   ]
  },
  {
   "cell_type": "markdown",
   "metadata": {},
   "source": [
    "### Question 1"
   ]
  },
  {
   "cell_type": "code",
   "execution_count": 77,
   "metadata": {
    "id": "zeKjo8JPUjjY",
    "scrolled": true
   },
   "outputs": [
    {
     "name": "stdout",
     "output_type": "stream",
     "text": [
      "[1, 2, 3, 4, 5, 6, 7, 8, 9, 10, 11, 12, 13, 14, 15, 16, 17, 18, 19, 20, 21, 22, 23, 24, 25, 26, 27, 28, 29, 30, 31, 32, 33, 34, 35, 36, 37, 38, 39, 40, 41, 42, 43, 44, 45, 46, 47, 48, 49, 50, 51, 52, 53, 54, 55, 56, 57, 58, 59, 60, 61, 62, 63, 64, 65, 66, 67, 68, 69, 70, 71, 72, 73, 74, 75, 76, 77, 78, 79, 80, 81, 82, 83, 84, 85, 86, 87, 88, 89, 90, 91, 92, 93, 94, 95, 96, 97, 98, 99, 100]\n"
     ]
    }
   ],
   "source": [
    "L = []\n",
    "for i in range(100):\n",
    "    L.append(i+1)\n",
    "print(L)"
   ]
  },
  {
   "cell_type": "markdown",
   "metadata": {},
   "source": [
    "### Question 2"
   ]
  },
  {
   "cell_type": "code",
   "execution_count": 78,
   "metadata": {
    "scrolled": true
   },
   "outputs": [
    {
     "name": "stdout",
     "output_type": "stream",
     "text": [
      "[5, 10, 15, 20, 25, 30, 35, 40, 45, 50, 55, 60, 65, 70, 75, 80, 85, 90, 95]\n"
     ]
    }
   ],
   "source": [
    "print(L[4:95:5])"
   ]
  },
  {
   "cell_type": "markdown",
   "metadata": {},
   "source": [
    "### Question 3"
   ]
  },
  {
   "cell_type": "code",
   "execution_count": 79,
   "metadata": {},
   "outputs": [
    {
     "name": "stdout",
     "output_type": "stream",
     "text": [
      "[1, 0, 3, 0, 5, 0, 7, 0, 9, 0, 11, 0, 13, 0, 15, 0, 17, 0, 19, 0, 21, 0, 23, 0, 25, 0, 27, 0, 29, 0, 31, 0, 33, 0, 35, 0, 37, 0, 39, 0, 41, 0, 43, 0, 45, 0, 47, 0, 49, 0, 51, 0, 53, 0, 55, 0, 57, 0, 59, 0, 61, 0, 63, 0, 65, 0, 67, 0, 69, 0, 71, 0, 73, 0, 75, 0, 77, 0, 79, 0, 81, 0, 83, 0, 85, 0, 87, 0, 89, 0, 91, 0, 93, 0, 95, 0, 97, 0, 99, 0]\n"
     ]
    }
   ],
   "source": [
    "for i in L:\n",
    "    if (i-1) % 2 == 0:\n",
    "        L[i] = 0\n",
    "print(L)"
   ]
  },
  {
   "cell_type": "markdown",
   "metadata": {},
   "source": [
    "### Question 4"
   ]
  },
  {
   "cell_type": "markdown",
   "metadata": {},
   "source": [
    "I guess that `L[-1::-1]` will invert `L`."
   ]
  },
  {
   "cell_type": "code",
   "execution_count": 80,
   "metadata": {
    "scrolled": true
   },
   "outputs": [
    {
     "name": "stdout",
     "output_type": "stream",
     "text": [
      "[0, 99, 0, 97, 0, 95, 0, 93, 0, 91, 0, 89, 0, 87, 0, 85, 0, 83, 0, 81, 0, 79, 0, 77, 0, 75, 0, 73, 0, 71, 0, 69, 0, 67, 0, 65, 0, 63, 0, 61, 0, 59, 0, 57, 0, 55, 0, 53, 0, 51, 0, 49, 0, 47, 0, 45, 0, 43, 0, 41, 0, 39, 0, 37, 0, 35, 0, 33, 0, 31, 0, 29, 0, 27, 0, 25, 0, 23, 0, 21, 0, 19, 0, 17, 0, 15, 0, 13, 0, 11, 0, 9, 0, 7, 0, 5, 0, 3, 0, 1]\n"
     ]
    }
   ],
   "source": [
    "print(L[-1::-1])"
   ]
  },
  {
   "cell_type": "markdown",
   "metadata": {},
   "source": [
    "This makes sense, we're starting from the last index and going backwards."
   ]
  },
  {
   "cell_type": "code",
   "execution_count": 81,
   "metadata": {},
   "outputs": [
    {
     "name": "stdout",
     "output_type": "stream",
     "text": [
      "olleH\n"
     ]
    }
   ],
   "source": [
    "L = 'Hello'\n",
    "print(L[-1::-1])"
   ]
  },
  {
   "cell_type": "markdown",
   "metadata": {},
   "source": [
    "### Question 5"
   ]
  },
  {
   "cell_type": "code",
   "execution_count": 82,
   "metadata": {},
   "outputs": [
    {
     "name": "stdout",
     "output_type": "stream",
     "text": [
      "[1, 100, 3, 98, 5, 96, 7, 94, 9, 92, 11, 90, 13, 88, 15, 86, 17, 84, 19, 82, 21, 80, 23, 78, 25, 76, 27, 74, 29, 72, 31, 70, 33, 68, 35, 66, 37, 64, 39, 62, 41, 60, 43, 58, 45, 56, 47, 54, 49, 52, 51, 50, 53, 48, 55, 46, 57, 44, 59, 42, 61, 40, 63, 38, 65, 36, 67, 34, 69, 32, 71, 30, 73, 28, 75, 26, 77, 24, 79, 22, 81, 20, 83, 18, 85, 16, 87, 14, 89, 12, 91, 10, 93, 8, 95, 6, 97, 4, 99, 2]\n"
     ]
    }
   ],
   "source": [
    "even = []\n",
    "odd = []\n",
    "every = []\n",
    "for i in range(50):\n",
    "    even.append(2*(i+1))\n",
    "even = even[-1::-1]\n",
    "for i in range(50):\n",
    "    odd.append(2*i+1)\n",
    "for i in range(50):\n",
    "    every.append(odd[i])\n",
    "    every.append(even[i])\n",
    "print(every)"
   ]
  },
  {
   "cell_type": "markdown",
   "metadata": {},
   "source": [
    "### Question 6"
   ]
  },
  {
   "cell_type": "code",
   "execution_count": 83,
   "metadata": {},
   "outputs": [
    {
     "name": "stdout",
     "output_type": "stream",
     "text": [
      "[1, 4, 9, 16, 25, 36, 49, 64, 81, 100, 121, 144, 169, 196, 225, 256, 289, 324, 361, 400, 441, 484, 529, 576, 625, 676, 729, 784, 841, 900, 961, 1024, 1089, 1156, 1225, 1296, 1369, 1444, 1521, 1600, 1681, 1764, 1849, 1936, 2025, 2116, 2209, 2304, 2401, 2500, 2601, 2704, 2809, 2916, 3025, 3136, 3249, 3364, 3481, 3600, 3721, 3844, 3969, 4096, 4225, 4356, 4489, 4624, 4761, 4900, 5041, 5184, 5329, 5476, 5625, 5776, 5929, 6084, 6241, 6400, 6561, 6724, 6889, 7056, 7225, 7396, 7569, 7744, 7921, 8100, 8281, 8464, 8649, 8836, 9025, 9216, 9409, 9604, 9801, 10000]\n"
     ]
    }
   ],
   "source": [
    "squares = []\n",
    "for i in range(1,101):\n",
    "    squares.append(i*i)\n",
    "print(squares)"
   ]
  },
  {
   "cell_type": "markdown",
   "metadata": {},
   "source": [
    "### Question 7"
   ]
  },
  {
   "cell_type": "code",
   "execution_count": 84,
   "metadata": {
    "scrolled": true
   },
   "outputs": [
    {
     "name": "stdout",
     "output_type": "stream",
     "text": [
      "['1C', '1D', '1H', '1S', '2C', '2D', '2H', '2S', '3C', '3D', '3H', '3S', '4C', '4D', '4H', '4S', '5C', '5D', '5H', '5S', '6C', '6D', '6H', '6S', '7C', '7D', '7H', '7S', '8C', '8D', '8H', '8S', '9C', '9D', '9H', '9S', '10C', '10D', '10H', '10S', '11C', '11D', '11H', '11S', '12C', '12D', '12H', '12S', '13C', '13D', '13H', '13S']\n"
     ]
    }
   ],
   "source": [
    "suits = ['C', 'D', 'H', 'S']\n",
    "deck = [str(n) + suit for n in range(1,14) for suit in suits]\n",
    "print(deck)"
   ]
  },
  {
   "cell_type": "markdown",
   "metadata": {},
   "source": [
    "This is a super slick way to make the deck with list comprehension that Professor Weissman helped us write. I wouldn't have thought of this on my own. My first try used for loops and the list.append() method."
   ]
  },
  {
   "cell_type": "markdown",
   "metadata": {},
   "source": [
    "### Question 8\n",
    "I couldn't figure out one program that would work regardless of whether the list was even or odd length. So, I had to use an if statement to check at the beginning."
   ]
  },
  {
   "cell_type": "code",
   "execution_count": 85,
   "metadata": {},
   "outputs": [],
   "source": [
    "def shuffle(deck):\n",
    "    if len(deck) % 2 == 0:\n",
    "        deck_1 = deck[:len(deck)//2] #split the deck into a first half\n",
    "        deck_2 = deck[len(deck)//2:] #and a second half\n",
    "        shuffled_deck = []\n",
    "        for i in range(len(deck)//2): #add the halves to the shuffled deck alternatingly\n",
    "            shuffled_deck.append(deck_1[i])\n",
    "            shuffled_deck.append(deck_2[i])\n",
    "        return shuffled_deck\n",
    "    else:\n",
    "        deck_1 = deck[:len(deck)//2+1] #if the deck has an odd length, I want the first half to be longer than the second\n",
    "        deck_2 = deck[len(deck)//2+1:] #so that they can be interlaced properly.\n",
    "        shuffled_deck = []\n",
    "        shuffled_deck.append(deck_1[0]) #the first append is outside of the loop since deck_1 and deck_2 have different lengths\n",
    "        for i in range(len(deck)//2):\n",
    "            shuffled_deck.append(deck_2[i])\n",
    "            shuffled_deck.append(deck_1[i+1])\n",
    "        return shuffled_deck"
   ]
  },
  {
   "cell_type": "code",
   "execution_count": 86,
   "metadata": {},
   "outputs": [
    {
     "data": {
      "text/plain": [
       "[1, 6, 2, 7, 3, 8, 4, 9, 5]"
      ]
     },
     "execution_count": 86,
     "metadata": {},
     "output_type": "execute_result"
    }
   ],
   "source": [
    "shuffle([1,2,3,4,5,6,7,8,9])"
   ]
  },
  {
   "cell_type": "markdown",
   "metadata": {
    "id": "DIORkSZEo1Nu"
   },
   "source": [
    "## Sieve of Eratosthenes"
   ]
  },
  {
   "cell_type": "markdown",
   "metadata": {
    "id": "rTQgPGs2o1Nu"
   },
   "source": [
    "The **Sieve of Eratosthenes** (hereafter called \"the sieve\") is a very fast way of producing long lists of primes, without doing repeated primality checking.  The basic idea is to start with all of the natural numbers, and successively filter out, or [**sieve**](https://en.wikipedia.org/wiki/Sieve), the multiples of 2, then the multiples of 3, then the multiples of 5, etc., until only primes are left.  You can read more about the sieve, and experimental number theory, at [The Conversation](https://theconversation.com/why-prime-numbers-still-fascinate-mathematicians-2-300-years-later-92484)\n",
    "\n",
    "Using list slicing, we can carry out this sieving process efficiently.  And with a few more tricks we encounter here, we can carry out the Sieve **very** efficiently."
   ]
  },
  {
   "cell_type": "markdown",
   "metadata": {
    "id": "_jx0oxsuo1Nu"
   },
   "source": [
    "### The basic sieve\n",
    "\n",
    "The first approach we introduce is a bit naive, but is a good starting place.  We will begin with a list of numbers up to 100, and sieve out the appropriate multiples of 2,3,5,7."
   ]
  },
  {
   "cell_type": "code",
   "execution_count": 87,
   "metadata": {
    "id": "xiF25G0Zo1Nu"
   },
   "outputs": [],
   "source": [
    "primes = list(range(100)) # Let's start with the numbers 0...99."
   ]
  },
  {
   "cell_type": "markdown",
   "metadata": {
    "id": "XIDLjxG4o1Nu"
   },
   "source": [
    "Now, to \"filter\", i.e., to say that a number is *not* prime, let's just change the number to the value `None`.  "
   ]
  },
  {
   "cell_type": "code",
   "execution_count": 88,
   "metadata": {
    "id": "5VK6hIBEo1Nu"
   },
   "outputs": [
    {
     "name": "stdout",
     "output_type": "stream",
     "text": [
      "[None, None, 2, 3, 4, 5, 6, 7, 8, 9, 10, 11, 12, 13, 14, 15, 16, 17, 18, 19, 20, 21, 22, 23, 24, 25, 26, 27, 28, 29, 30, 31, 32, 33, 34, 35, 36, 37, 38, 39, 40, 41, 42, 43, 44, 45, 46, 47, 48, 49, 50, 51, 52, 53, 54, 55, 56, 57, 58, 59, 60, 61, 62, 63, 64, 65, 66, 67, 68, 69, 70, 71, 72, 73, 74, 75, 76, 77, 78, 79, 80, 81, 82, 83, 84, 85, 86, 87, 88, 89, 90, 91, 92, 93, 94, 95, 96, 97, 98, 99]\n"
     ]
    }
   ],
   "source": [
    "primes[0] = None # Zero is not prime.\n",
    "primes[1] = None # One is not prime.\n",
    "print(primes) # What have we done?"
   ]
  },
  {
   "cell_type": "markdown",
   "metadata": {
    "id": "f60YBXEpo1Nv"
   },
   "source": [
    "Now let's filter out the multiples of 2, starting at 4.  This is the slice `primes[4::2]`"
   ]
  },
  {
   "cell_type": "code",
   "execution_count": 89,
   "metadata": {
    "id": "WIBb5mQ3o1Nv"
   },
   "outputs": [
    {
     "name": "stdout",
     "output_type": "stream",
     "text": [
      "[None, None, 2, 3, None, 5, None, 7, None, 9, None, 11, None, 13, None, 15, None, 17, None, 19, None, 21, None, 23, None, 25, None, 27, None, 29, None, 31, None, 33, None, 35, None, 37, None, 39, None, 41, None, 43, None, 45, None, 47, None, 49, None, 51, None, 53, None, 55, None, 57, None, 59, None, 61, None, 63, None, 65, None, 67, None, 69, None, 71, None, 73, None, 75, None, 77, None, 79, None, 81, None, 83, None, 85, None, 87, None, 89, None, 91, None, 93, None, 95, None, 97, None, 99]\n"
     ]
    }
   ],
   "source": [
    "primes[4::2] = [None] * len(primes[4::2])  # The right side is a list of Nones, of the necessary length.\n",
    "print(primes) # What have we done?"
   ]
  },
  {
   "cell_type": "markdown",
   "metadata": {
    "id": "gD0IZ3ffo1Nv"
   },
   "source": [
    "Now we filter out the multiples of 3, starting at 9."
   ]
  },
  {
   "cell_type": "code",
   "execution_count": 90,
   "metadata": {
    "id": "nRDiN5ZYo1Nv"
   },
   "outputs": [
    {
     "name": "stdout",
     "output_type": "stream",
     "text": [
      "[None, None, 2, 3, None, 5, None, 7, None, None, None, 11, None, 13, None, None, None, 17, None, 19, None, None, None, 23, None, 25, None, None, None, 29, None, 31, None, None, None, 35, None, 37, None, None, None, 41, None, 43, None, None, None, 47, None, 49, None, None, None, 53, None, 55, None, None, None, 59, None, 61, None, None, None, 65, None, 67, None, None, None, 71, None, 73, None, None, None, 77, None, 79, None, None, None, 83, None, 85, None, None, None, 89, None, 91, None, None, None, 95, None, 97, None, None]\n"
     ]
    }
   ],
   "source": [
    "primes[9::3] = [None] * len(primes[9::3])  # The right side is a list of Nones, of the necessary length.\n",
    "print(primes) # What have we done?"
   ]
  },
  {
   "cell_type": "markdown",
   "metadata": {
    "id": "OkeNZU2Uo1Nv"
   },
   "source": [
    "Next the multiples of 5, starting at 25 (the first multiple of 5 greater than 5 that's left!)"
   ]
  },
  {
   "cell_type": "code",
   "execution_count": 91,
   "metadata": {
    "id": "Aocpditlo1Nv"
   },
   "outputs": [
    {
     "name": "stdout",
     "output_type": "stream",
     "text": [
      "[None, None, 2, 3, None, 5, None, 7, None, None, None, 11, None, 13, None, None, None, 17, None, 19, None, None, None, 23, None, None, None, None, None, 29, None, 31, None, None, None, None, None, 37, None, None, None, 41, None, 43, None, None, None, 47, None, 49, None, None, None, 53, None, None, None, None, None, 59, None, 61, None, None, None, None, None, 67, None, None, None, 71, None, 73, None, None, None, 77, None, 79, None, None, None, 83, None, None, None, None, None, 89, None, 91, None, None, None, None, None, 97, None, None]\n"
     ]
    }
   ],
   "source": [
    "primes[25::5] = [None] * len(primes[25::5])  # The right side is a list of Nones, of the necessary length.\n",
    "print(primes) # What have we done?"
   ]
  },
  {
   "cell_type": "markdown",
   "metadata": {
    "id": "9DYckJ43o1Nv"
   },
   "source": [
    "Finally, the multiples of 7, starting at 49 (the first multiple of 7 greater than 7 that's left!)"
   ]
  },
  {
   "cell_type": "code",
   "execution_count": 92,
   "metadata": {
    "id": "NMMhQYBqo1Nv"
   },
   "outputs": [
    {
     "name": "stdout",
     "output_type": "stream",
     "text": [
      "[None, None, 2, 3, None, 5, None, 7, None, None, None, 11, None, 13, None, None, None, 17, None, 19, None, None, None, 23, None, None, None, None, None, 29, None, 31, None, None, None, None, None, 37, None, None, None, 41, None, 43, None, None, None, 47, None, None, None, None, None, 53, None, None, None, None, None, 59, None, 61, None, None, None, None, None, 67, None, None, None, 71, None, 73, None, None, None, None, None, 79, None, None, None, 83, None, None, None, None, None, 89, None, None, None, None, None, None, None, 97, None, None]\n"
     ]
    }
   ],
   "source": [
    "primes[49::7] = [None] * len(primes[49::7])  # The right side is a list of Nones, of the necessary length.\n",
    "print(primes) # What have we done?"
   ]
  },
  {
   "cell_type": "markdown",
   "metadata": {
    "id": "6Dulthjho1Nv"
   },
   "source": [
    "What's left?  A lot of `None`s and the prime numbers up to 100.  We have successfully sieved out all the nonprime numbers in the list, using just four sieving steps (and setting 0 and 1 to `None` manually).  \n",
    "\n",
    "But there's a lot of room for improvement, from beginning to end!\n",
    "\n",
    "1.  The format of the end result is not so nice.\n",
    "2.  We had to sieve each step manually.  It would be much better to have a function `prime_list(n)` which would output a list of primes up to `n` without so much supervision.\n",
    "3.  The memory usage will be large, if we need to store all the numbers up to a large `n` at the beginning.\n",
    "\n",
    "We solve these problems in the following way.\n",
    "\n",
    "1.  We will use a list of **booleans** rather than a list of numbers.  The ending list will have a `True` value at prime indices and a `False` value at composite indices.  This reduces the memory usage and increases the speed.  \n",
    "2.  A `which` function (explained soon) will make the desired list of primes after everything else is done.\n",
    "3.  We will proceed through the sieving steps algorithmically rather than entering each step manually.\n",
    "\n",
    "Here is a somewhat efficient implementation of the Sieve in Python."
   ]
  },
  {
   "cell_type": "code",
   "execution_count": 93,
   "metadata": {
    "id": "HfOTwel_o1Nv"
   },
   "outputs": [],
   "source": [
    "from math import sqrt\n",
    "def isprime_list(n):\n",
    "    ''' \n",
    "    Return a list of length n+1\n",
    "    with Trues at prime indices and Falses at composite indices.\n",
    "    '''\n",
    "    flags = [True] * (n+1)  # A list [True, True, True,...] to start.\n",
    "    flags[0] = False  # Zero is not prime.  So its flag is set to False.\n",
    "    flags[1] = False  # One is not prime.  So its flag is set to False.\n",
    "    p = 2  # The first prime is 2.  And we start sieving by multiples of 2.\n",
    "    \n",
    "    while p <= sqrt(n):  # We only need to sieve by p is p <= sqrt(n).\n",
    "        if flags[p]:  # We sieve the multiples of p if flags[p]=True.\n",
    "            flags[p*p::p] = [False] * len(flags[p*p::p]) # Sieves out multiples of p, starting at p*p.\n",
    "        p = p + 1 # Try the next value of p.\n",
    "        \n",
    "    return flags"
   ]
  },
  {
   "cell_type": "code",
   "execution_count": 94,
   "metadata": {
    "id": "eM2OGaymo1Nw"
   },
   "outputs": [
    {
     "name": "stdout",
     "output_type": "stream",
     "text": [
      "[False, False, True, True, False, True, False, True, False, False, False, True, False, True, False, False, False, True, False, True, False, False, False, True, False, False, False, False, False, True, False, True, False, False, False, False, False, True, False, False, False, True, False, True, False, False, False, True, False, False, False, False, False, True, False, False, False, False, False, True, False, True, False, False, False, False, False, True, False, False, False, True, False, True, False, False, False, False, False, True, False, False, False, True, False, False, False, False, False, True, False, False, False, False, False, False, False, True, False, False, False]\n"
     ]
    }
   ],
   "source": [
    "print(isprime_list(100))"
   ]
  },
  {
   "cell_type": "markdown",
   "metadata": {
    "id": "73FT-HVIo1Nw"
   },
   "source": [
    "If you look carefully at the list of booleans, you will notice a `True` value at the 2nd index, the 3rd index, the 5th index, the 7th index, etc..  The indices where the values are `True` are precisely the **prime** indices.  Since booleans take the smallest amount of memory of any data type (one **bit** of memory per boolean), your computer can carry out the `isprime_list(n)` function even when `n` is very large.\n",
    "\n",
    "To be more precise, there are 8 bits in a **byte**.  There are 1024 bytes (about 1000) in a kilobyte.  There are 1024 kilobytes in a megabyte.  There are 1024 megabytes in a gigabyte.  Therefore, a gigabyte of memory is enough to store about 8 billion bits.  That's enough to store the result of `isprime_list(n)` when `n` is about 8 billion.  Not bad!  And your computer probably has 4 or 8 or 12 or 16 gigabytes of memory to use.\n",
    "\n"
   ]
  },
  {
   "cell_type": "markdown",
   "metadata": {
    "id": "TtTBE8U0o1Nw"
   },
   "source": [
    "To transform the list of booleans into a list of prime numbers, we create a function called `where`.  This function uses another Python technique called **list comprehension**.  We discuss this technique later in this lesson, so just use the `where` function as a tool for now, or [read about list comprehension](https://docs.python.org/2/tutorial/datastructures.html#list-comprehensions) if you're curious."
   ]
  },
  {
   "cell_type": "code",
   "execution_count": 97,
   "metadata": {
    "id": "q_ZiUC2uo1Nw"
   },
   "outputs": [],
   "source": [
    "def where(L):\n",
    "    '''\n",
    "    Take a list of booleans as input and\n",
    "    outputs the list of indices where True occurs.\n",
    "    '''\n",
    "    return [n for n in range(len(L)) if L[n]]\n",
    "    "
   ]
  },
  {
   "cell_type": "markdown",
   "metadata": {
    "id": "_rkxdrhmo1Nw"
   },
   "source": [
    "Combined with the `isprime_list` function, we can produce long lists of primes."
   ]
  },
  {
   "cell_type": "code",
   "execution_count": 98,
   "metadata": {
    "id": "MkA2LdBlo1Nw",
    "scrolled": true
   },
   "outputs": [
    {
     "name": "stdout",
     "output_type": "stream",
     "text": [
      "[2, 3, 5, 7, 11, 13, 17, 19, 23, 29, 31, 37, 41, 43, 47, 53, 59, 61, 67, 71, 73, 79, 83, 89, 97]\n"
     ]
    }
   ],
   "source": [
    "print(where(isprime_list(100)))"
   ]
  },
  {
   "cell_type": "markdown",
   "metadata": {
    "id": "gy3KRYbAo1Nw"
   },
   "source": [
    "Let's push it a bit further.  How many primes are there between 1 and 1 million?  We can figure this out in three steps:\n",
    "\n",
    "1.  Create the isprime_list.\n",
    "2.  Use where to get the list of primes.\n",
    "3.  Find the length of the list of primes.\n",
    "\n",
    "But it's better to do it in two steps.\n",
    "\n",
    "1.  Create the isprime_list.\n",
    "2.  Sum the list!  (Note that `True` is 1, for the purpose of summation!)"
   ]
  },
  {
   "cell_type": "code",
   "execution_count": 99,
   "metadata": {
    "id": "MpIGIxjro1Nw"
   },
   "outputs": [
    {
     "data": {
      "text/plain": [
       "78498"
      ]
     },
     "execution_count": 99,
     "metadata": {},
     "output_type": "execute_result"
    }
   ],
   "source": [
    "sum(isprime_list(1000000))  # The number of primes up to a million!"
   ]
  },
  {
   "cell_type": "code",
   "execution_count": 100,
   "metadata": {
    "id": "uQx3_5suo1Nw"
   },
   "outputs": [
    {
     "name": "stdout",
     "output_type": "stream",
     "text": [
      "31.2 ms ± 309 µs per loop (mean ± std. dev. of 7 runs, 10 loops each)\n"
     ]
    }
   ],
   "source": [
    "%timeit isprime_list(10**6)  # 1000 ms = 1 second."
   ]
  },
  {
   "cell_type": "code",
   "execution_count": 101,
   "metadata": {
    "id": "Dy3dxyNCo1Nw"
   },
   "outputs": [
    {
     "name": "stdout",
     "output_type": "stream",
     "text": [
      "46.6 ms ± 414 µs per loop (mean ± std. dev. of 7 runs, 10 loops each)\n"
     ]
    }
   ],
   "source": [
    "%timeit sum(isprime_list(10**6))"
   ]
  },
  {
   "cell_type": "markdown",
   "metadata": {
    "id": "WiEYpMXUo1Nw"
   },
   "source": [
    "This isn't too bad!  It takes a fraction of a second to identify the primes up to a million, and a smaller fraction of a second to count them!  But we can do a little better.  \n",
    "\n",
    "The first improvement is to take care of the even numbers first.  If we count carefully, then the sequence 4,6,8,...,n (ending at n-1 if n is odd) has the floor of (n-2)/2 terms.  Thus the line `flags[4::2] = [False] * ((n-2)//2)` will set all the flags to False in the sequence 4,6,8,10,...  From there, we can begin sieving by *odd* primes starting with 3.\n",
    "\n",
    "The next improvement is that, since we've already sieved out all the even numbers (except 2), we don't have to sieve out again by *even multiples*.  So when sieving by multiples of 3, we don't have to sieve out 9,12,15,18,21,etc..  We can just sieve out 9,15,21,etc..  When `p` is an odd prime, this can be taken care of with the code `flags[p*p::2*p] = [False] * len(flags[p*p::2*p])`.  "
   ]
  },
  {
   "cell_type": "code",
   "execution_count": 102,
   "metadata": {
    "id": "MBU0GJsSo1Nx"
   },
   "outputs": [],
   "source": [
    "def isprime_list(n):\n",
    "    ''' \n",
    "    Return a list of length n+1\n",
    "    with Trues at prime indices and Falses at composite indices.\n",
    "    '''\n",
    "    flags = [True] * (n+1)  # A list [True, True, True,...] to start.\n",
    "    flags[0] = False  # Zero is not prime.  So its flag is set to False.\n",
    "    flags[1] = False  # One is not prime.  So its flag is set to False.\n",
    "    flags[4::2] = [False] * ((n-2)//2)\n",
    "    p = 3\n",
    "    while p <= sqrt(n):  # We only need to sieve by p is p <= sqrt(n).\n",
    "        if flags[p]:  # We sieve the multiples of p if flags[p]=True.\n",
    "            flags[p*p::2*p] = [False] * len(flags[p*p::2*p]) # Sieves out multiples of p, starting at p*p.\n",
    "        p = p + 2 # Try the next value of p.  Note that we can proceed only through odd p!\n",
    "        \n",
    "    return flags"
   ]
  },
  {
   "cell_type": "code",
   "execution_count": 103,
   "metadata": {
    "id": "gW6DlvCmo1Nx"
   },
   "outputs": [
    {
     "name": "stdout",
     "output_type": "stream",
     "text": [
      "36.4 ms ± 881 µs per loop (mean ± std. dev. of 7 runs, 10 loops each)\n"
     ]
    }
   ],
   "source": [
    "%timeit sum(isprime_list(10**6))  # How much did this speed it up?"
   ]
  },
  {
   "cell_type": "markdown",
   "metadata": {
    "id": "hiCV5pUEo1Nx"
   },
   "source": [
    "Another modest improvement is the following.  In the code above, the program *counts* the terms in sequences like 9,15,21,27,..., in order to set them to `False`.  This is accomplished with the length command `len(flags[p*p::2*p])`.  But that length computation is a bit too intensive.  A bit of algebraic work shows that the length is given formulaically in terms of `p` and `n` by the formula:  \n",
    "\n",
    "$$len = \\lfloor \\frac{n - p^2 - 1}{2p} \\rfloor + 1$$\n",
    "\n",
    "(Here $\\lfloor x \\rfloor$ denotes the floor function, i.e., the result of rounding down.)  Putting this into the code yields the following."
   ]
  },
  {
   "cell_type": "code",
   "execution_count": 104,
   "metadata": {
    "id": "46RPEsKCo1Nx"
   },
   "outputs": [],
   "source": [
    "def isprime_list(n):\n",
    "    ''' \n",
    "    Return a list of length n+1\n",
    "    with Trues at prime indices and Falses at composite indices.\n",
    "    '''\n",
    "    flags = [True] * (n+1)  # A list [True, True, True,...] to start.\n",
    "    flags[0] = False  # Zero is not prime.  So its flag is set to False.\n",
    "    flags[1] = False  # One is not prime.  So its flag is set to False.\n",
    "    flags[4::2] = [False] * ((n-2)//2)\n",
    "    p = 3\n",
    "    while p <= sqrt(n):  # We only need to sieve by p is p <= sqrt(n).\n",
    "        if flags[p]:  # We sieve the multiples of p if flags[p]=True.\n",
    "            flags[p*p::2*p] = [False] * ((n-p*p)//(2*p)+1) # Sieves out multiples of p, starting at p*p.\n",
    "        p = p + 2 # Try the next value of p.\n",
    "        \n",
    "    return flags"
   ]
  },
  {
   "cell_type": "code",
   "execution_count": 105,
   "metadata": {
    "id": "gMCxzJ8yo1Nx"
   },
   "outputs": [
    {
     "name": "stdout",
     "output_type": "stream",
     "text": [
      "28.4 ms ± 420 µs per loop (mean ± std. dev. of 7 runs, 10 loops each)\n"
     ]
    }
   ],
   "source": [
    "%timeit sum(isprime_list(10**6))  # How much did this speed it up?"
   ]
  },
  {
   "cell_type": "markdown",
   "metadata": {
    "id": "NT6XwvCJo1Nx"
   },
   "source": [
    "That should be pretty fast!  It should be under 100 ms (one tenth of one second!) to determine the primes up to a million, and on a newer computer it should be under 50ms.  We have gotten pretty close to the fastest algorithms that you can find in Python, without using external packages (like SAGE or sympy).  See the related [discussion on StackOverflow](https://stackoverflow.com/questions/2068372/fastest-way-to-list-all-primes-below-n)... the code in this lesson was influenced by the code presented there."
   ]
  },
  {
   "cell_type": "markdown",
   "metadata": {
    "id": "8Noiny4ho1Nx"
   },
   "source": [
    "### Exercises\n",
    "\n",
    "1.  Prove that the length of `range(p*p, n, 2*p)` equals $\\lfloor \\frac{n - p^2 - 1}{2p} \\rfloor + 1$.\n",
    "\n",
    "2.  A natural number $n$ is called squarefree if it has no perfect square divides $n$ except for 1.  Write a function `squarefree_list(n)` which outputs a list of booleans:  `True` if the index is squarefree and `False` if the index is not squarefree.  For example, if you execute `squarefree_list(12)`, the output should be `[False, True, True, True, False, True, True, True, False, False, True, True, False]`.  Note that the `False` entries are located the indices 0, 4, 8, 9, 12.  These natural numbers have perfect square divisors besides 1.  \n",
    "\n",
    "3.  Your DNA contains about 3 billion base pairs.  Each \"base pair\" can be thought of as a letter, A, T, G, or C.  How many bits would be required to store a single base pair?  In other words, how might you convert a sequence of booleans into a letter A,T,G, or C?  Given this, how many megabytes or gigabytes are required to store your DNA?  How many people's DNA would fit on a thumb-drive?"
   ]
  },
  {
   "cell_type": "markdown",
   "metadata": {},
   "source": [
    "### Question 1\n",
    "The list generated by `list(range(p*p,n,2*p))` looks like `[p*p, p*p + 2*p, p*p + 4*p, ... , p*p + 2*k*p]`, where k is the greatest integer such that `p*p + 2*k*p <= n-1`. If we perform the same operation on every item of our list, the length will remain the same. So subtract `p*p` from every entry. Now the list looks like `[0, 2*p, 4*p, ... , 2*k*p]`. Now divide every term by `2*p` and we have `[0, 1, 2, ... , k]`. This list clearly has length `k+1`. So our original list must also have length `k+1`. Now, we have to solve for `k`. Manipulating `p*p + 2*k*p <= n-1` yields `k <= (n - p*p - 1)/(2*p)`. But recall that `k` is the greatest possible integer which fulfulls this inequality. The largest integer less than or equal to any number is the floor of that number, so `k == math.floor((n - p*p - 1)/(2*p))`. Since the length of our list is `k+1`, the length of our list will be `math.floor((n - p*p - 1)/(2*p)) + 1`."
   ]
  },
  {
   "cell_type": "markdown",
   "metadata": {},
   "source": [
    "### Question 2"
   ]
  },
  {
   "cell_type": "code",
   "execution_count": 145,
   "metadata": {},
   "outputs": [],
   "source": [
    "import math\n",
    "def squarefree_list(n):\n",
    "    '''\n",
    "    Returns a list of booleans. If the index is squarefree, the entry is True. Otherwise, the entry is False.\n",
    "    '''\n",
    "    squarefrees = [True] * (n+1)\n",
    "    squarefrees[0] = False #do 0 manually since it messes up the loop\n",
    "    square_list = [i*i for i in range(2,math.floor(sqrt(n))+1)] #this is a list of all square numbers less than or equal to n+1\n",
    "    for i in range(1,math.floor(sqrt(n))+1): #i goes from 1 to the square root of n\n",
    "        for j in square_list: #j comes from square_list\n",
    "            if i*j <= n+1: #i*j will not be a squarefree number. if it's less than n, change the entry to False\n",
    "                squarefrees[i*j] = False\n",
    "    return squarefrees"
   ]
  },
  {
   "cell_type": "code",
   "execution_count": 146,
   "metadata": {
    "scrolled": true
   },
   "outputs": [
    {
     "data": {
      "text/plain": [
       "[False,\n",
       " True,\n",
       " True,\n",
       " True,\n",
       " False,\n",
       " True,\n",
       " True,\n",
       " True,\n",
       " False,\n",
       " False,\n",
       " True,\n",
       " True,\n",
       " False]"
      ]
     },
     "execution_count": 146,
     "metadata": {},
     "output_type": "execute_result"
    }
   ],
   "source": [
    "squarefree_list(12)"
   ]
  },
  {
   "cell_type": "markdown",
   "metadata": {},
   "source": [
    "### Question 3\n",
    "You could represent a base pair as 2 bits. 00 for A, 01 for T, 10 for G, 11 for C. So, that's 6 billion bits to store all of your DNA. That's only about 715 MB. I could fit the DNA of about 183 people into the 128 GB flash drive on my desk!"
   ]
  },
  {
   "cell_type": "markdown",
   "metadata": {
    "id": "hXac_vzPo1Nx"
   },
   "source": [
    "<a id='analysis'></a>"
   ]
  },
  {
   "cell_type": "markdown",
   "metadata": {
    "id": "tuP5axz9o1Nx"
   },
   "source": [
    "## Data analysis"
   ]
  },
  {
   "cell_type": "markdown",
   "metadata": {
    "id": "41IrhAupo1Nx"
   },
   "source": [
    "Now that we can produce a list of prime numbers quickly, we can do some data analysis:  some experimental number theory to look for trends or patterns in the sequence of prime numbers.  Since Euclid (about 300 BCE), we have known that there are infinitely many prime numbers.  But how are they distributed?  What proportion of numbers are prime, and how does this proportion change over different ranges?  As theoretical questions, these belong the the field of analytic number theory.  But it is hard to know what to prove without doing a bit of experimentation.  And so, at least since Gauss [(read Tschinkel's article about Gauss's tables)](http://www.ams.org/journals/bull/2006-43-01/S0273-0979-05-01096-7/S0273-0979-05-01096-7.pdf) started examining his extensive tables of prime numbers, mathematicians have been carrying out experimental number theory."
   ]
  },
  {
   "cell_type": "markdown",
   "metadata": {
    "id": "ZE0QFlwYo1Ny"
   },
   "source": [
    "### Analyzing the list of primes\n",
    "\n",
    "Let's begin by creating our data set:  the prime numbers up to 1 million."
   ]
  },
  {
   "cell_type": "code",
   "execution_count": 147,
   "metadata": {
    "id": "9HB_PuBXo1Ny"
   },
   "outputs": [],
   "source": [
    "primes = where(isprime_list(1000000))"
   ]
  },
  {
   "cell_type": "code",
   "execution_count": 148,
   "metadata": {
    "id": "bdr1hcP0o1Ny"
   },
   "outputs": [
    {
     "data": {
      "text/plain": [
       "78498"
      ]
     },
     "execution_count": 148,
     "metadata": {},
     "output_type": "execute_result"
    }
   ],
   "source": [
    "len(primes) # Our population size.  A statistician might call it N."
   ]
  },
  {
   "cell_type": "code",
   "execution_count": 149,
   "metadata": {
    "id": "wJs6DNcBo1Ny"
   },
   "outputs": [
    {
     "data": {
      "text/plain": [
       "999983"
      ]
     },
     "execution_count": 149,
     "metadata": {},
     "output_type": "execute_result"
    }
   ],
   "source": [
    "primes[-1]  # The last prime in our list, just before one million."
   ]
  },
  {
   "cell_type": "code",
   "execution_count": 150,
   "metadata": {
    "id": "7geu3XMoo1Ny",
    "scrolled": true
   },
   "outputs": [
    {
     "data": {
      "text/plain": [
       "list"
      ]
     },
     "execution_count": 150,
     "metadata": {},
     "output_type": "execute_result"
    }
   ],
   "source": [
    "type(primes) # What type is this data?"
   ]
  },
  {
   "cell_type": "code",
   "execution_count": 151,
   "metadata": {
    "id": "siBIu-IGo1Ny"
   },
   "outputs": [
    {
     "name": "stdout",
     "output_type": "stream",
     "text": [
      "[2, 3, 5, 7, 11, 13, 17, 19, 23, 29, 31, 37, 41, 43, 47, 53, 59, 61, 67, 71, 73, 79, 83, 89, 97, 101, 103, 107, 109, 113, 127, 131, 137, 139, 149, 151, 157, 163, 167, 173, 179, 181, 191, 193, 197, 199, 211, 223, 227, 229, 233, 239, 241, 251, 257, 263, 269, 271, 277, 281, 283, 293, 307, 311, 313, 317, 331, 337, 347, 349, 353, 359, 367, 373, 379, 383, 389, 397, 401, 409, 419, 421, 431, 433, 439, 443, 449, 457, 461, 463, 467, 479, 487, 491, 499, 503, 509, 521, 523, 541]\n"
     ]
    }
   ],
   "source": [
    "print(primes[:100]) # The first hundred prime numbers."
   ]
  },
  {
   "cell_type": "markdown",
   "metadata": {
    "id": "A6j9MmSGo1Ny"
   },
   "source": [
    "To carry out serious analysis, we will use the method of **list comprehension** to place our population into \"bins\" for statistical analysis.  Our first type of list comprehension has the form `[x for x in LIST if CONDITION]`.  This produces the list of all elements of LIST satisfying CONDITION.  It is similar to list slicing, except we pull out terms from the list according to whether a condition is true or false.\n",
    "\n",
    "For example, let's divide the (odd) primes into two classes.  Red primes will be those of the form 4n+1.  Blue primes will be those of the form 4n+3.  In other words, a prime `p` is red if `p%4 == 1` and blue if `p%4 == 3`.  And the prime 2 is neither red nor blue."
   ]
  },
  {
   "cell_type": "code",
   "execution_count": 152,
   "metadata": {
    "id": "bINic7Ceo1Ny"
   },
   "outputs": [
    {
     "name": "stdout",
     "output_type": "stream",
     "text": [
      "Red primes: [5, 13, 17, 29, 37, 41, 53, 61, 73, 89, 97, 101, 109, 113, 137, 149, 157, 173, 181, 193]\n",
      "Blue primes: [3, 7, 11, 19, 23, 31, 43, 47, 59, 67, 71, 79, 83, 103, 107, 127, 131, 139, 151, 163]\n"
     ]
    }
   ],
   "source": [
    "redprimes = [p for p in primes if p%4 == 1] # Note the [x for x in LIST if CONDITION] syntax.\n",
    "blueprimes = [p for p in primes if p%4 == 3]\n",
    "\n",
    "print('Red primes:',redprimes[:20]) # The first 20 red primes.\n",
    "print('Blue primes:',blueprimes[:20]) # The first 20 blue primes."
   ]
  },
  {
   "cell_type": "code",
   "execution_count": 153,
   "metadata": {
    "id": "XXK10HG4o1Ny"
   },
   "outputs": [
    {
     "name": "stdout",
     "output_type": "stream",
     "text": [
      "There are 39175 red primes and 39322 blue primes, up to 1 million.\n"
     ]
    }
   ],
   "source": [
    "print(\"There are {} red primes and {} blue primes, up to 1 million.\".format(len(redprimes), len(blueprimes)))"
   ]
  },
  {
   "cell_type": "markdown",
   "metadata": {
    "id": "EMVjQlHuo1Ny"
   },
   "source": [
    "This is pretty close!  It seems like prime numbers are about evenly distributed between red and blue.  Their remainder after division by 4 is about as likely to be 1 as it is to be 3.  In fact, it is proven that *asymptotically* the ratio between the number of red primes and the number of blue primes approaches 1.  However, Chebyshev noticed a persistent slight bias towards blue primes along the way."
   ]
  },
  {
   "cell_type": "markdown",
   "metadata": {
    "id": "iBN5IBLwo1Ny"
   },
   "source": [
    "Some of the deepest conjectures in mathematics relate to the [prime counting function](https://en.wikipedia.org/wiki/Prime-counting_function) $\\pi(x)$.  Here $\\pi(x)$ is the **number of primes** between 1 and $x$ (inclusive).  So $\\pi(2) = 1$ and $\\pi(3) = 2$ and $\\pi(4) = 2$ and $\\pi(5) = 3$.  One can compute a value of $\\pi(x)$ pretty easily using a list comprehension.\n",
    "\n"
   ]
  },
  {
   "cell_type": "code",
   "execution_count": 154,
   "metadata": {
    "id": "oFK7OGHoo1Nz"
   },
   "outputs": [],
   "source": [
    "def primes_upto(x):\n",
    "    return len([p for p in primes if p <= x]) # List comprehension recovers the primes up to x."
   ]
  },
  {
   "cell_type": "code",
   "execution_count": 155,
   "metadata": {
    "id": "eCi28UhMo1Nz"
   },
   "outputs": [
    {
     "data": {
      "text/plain": [
       "168"
      ]
     },
     "execution_count": 155,
     "metadata": {},
     "output_type": "execute_result"
    }
   ],
   "source": [
    "primes_upto(1000)  # There are 168 primes between 1 and 1000."
   ]
  },
  {
   "cell_type": "markdown",
   "metadata": {
    "id": "ZlnkhYw7o1Nz"
   },
   "source": [
    "Now we graph the prime counting function.  To do this, we use a list comprehension, and the visualization library called matplotlib.  For graphing a function, the basic idea is to create a list of x-values, a list of corresponding y-values (so the lists have to be the same length!), and then we feed the two lists into matplotlib to make the graph.\n",
    "\n",
    "We begin by loading the necessary packages."
   ]
  },
  {
   "cell_type": "code",
   "execution_count": 156,
   "metadata": {
    "id": "cvVF2M5Go1Nz"
   },
   "outputs": [],
   "source": [
    "import matplotlib  #  A powerful graphics package.\n",
    "import numpy  #  A math package\n",
    "import matplotlib.pyplot as plt  # A plotting subpackage in matplotlib."
   ]
  },
  {
   "cell_type": "markdown",
   "metadata": {
    "id": "-iouxGxro1Nz"
   },
   "source": [
    "Now let's graph the function $y = x^2$ over the domain $-2 \\leq x \\leq 2$ for practice.  As a first step, we use numpy's `linspace` function to create an evenly spaced set of 11 x-values between -2 and 2."
   ]
  },
  {
   "cell_type": "code",
   "execution_count": 157,
   "metadata": {
    "id": "n7oh0AAAo1Nz"
   },
   "outputs": [
    {
     "name": "stdout",
     "output_type": "stream",
     "text": [
      "[-2.  -1.6 -1.2 -0.8 -0.4  0.   0.4  0.8  1.2  1.6  2. ]\n"
     ]
    },
    {
     "data": {
      "text/plain": [
       "numpy.ndarray"
      ]
     },
     "execution_count": 157,
     "metadata": {},
     "output_type": "execute_result"
    }
   ],
   "source": [
    "x_values = numpy.linspace(-2,2,11)  # The argument 11 is the *number* of terms, not the step size!\n",
    "print(x_values)\n",
    "type(x_values)"
   ]
  },
  {
   "cell_type": "markdown",
   "metadata": {
    "id": "idcqPGZ0o1Nz"
   },
   "source": [
    "You might notice that the format looks a bit different from a list.  Indeed, if you check `type(x_values)`, it's not a list but something else called a numpy array.  Numpy is a package that excels with computations on large arrays of data.  On the surface, it's not so different from a list.  The `numpy.linspace` command is a convenient way of producing an evenly spaced list of inputs.\n",
    "\n",
    "The big difference is that operations on numpy arrays are interpreted differently than operations on ordinary Python lists.  Try the two commands for comparison."
   ]
  },
  {
   "cell_type": "code",
   "execution_count": 158,
   "metadata": {
    "id": "5LjKKSeZo1Nz"
   },
   "outputs": [
    {
     "data": {
      "text/plain": [
       "[1, 2, 3, 1, 2, 3]"
      ]
     },
     "execution_count": 158,
     "metadata": {},
     "output_type": "execute_result"
    }
   ],
   "source": [
    "[1,2,3] + [1,2,3]"
   ]
  },
  {
   "cell_type": "code",
   "execution_count": 159,
   "metadata": {
    "id": "qZFk1LBJo1Nz"
   },
   "outputs": [
    {
     "data": {
      "text/plain": [
       "array([-4. , -3.2, -2.4, -1.6, -0.8,  0. ,  0.8,  1.6,  2.4,  3.2,  4. ])"
      ]
     },
     "execution_count": 159,
     "metadata": {},
     "output_type": "execute_result"
    }
   ],
   "source": [
    "x_values + x_values"
   ]
  },
  {
   "cell_type": "code",
   "execution_count": 160,
   "metadata": {
    "id": "LyesLSuPo1N0"
   },
   "outputs": [
    {
     "name": "stdout",
     "output_type": "stream",
     "text": [
      "[4.   2.56 1.44 0.64 0.16 0.   0.16 0.64 1.44 2.56 4.  ]\n"
     ]
    }
   ],
   "source": [
    "y_values = x_values * x_values  # How is multiplication interpreted on numpy arrays?\n",
    "print(y_values)"
   ]
  },
  {
   "cell_type": "markdown",
   "metadata": {
    "id": "uAFegDVTo1N0"
   },
   "source": [
    "Now we use matplotlib to create a simple line graph."
   ]
  },
  {
   "cell_type": "code",
   "execution_count": 161,
   "metadata": {
    "id": "tjB51noto1N0"
   },
   "outputs": [
    {
     "data": {
      "image/png": "[encoded data removed]",
      "text/plain": [
       "<Figure size 432x288 with 1 Axes>"
      ]
     },
     "metadata": {
      "needs_background": "light"
     },
     "output_type": "display_data"
    }
   ],
   "source": [
    "%matplotlib inline\n",
    "plt.plot(x_values, y_values)\n",
    "plt.title('The graph of $y = x^2$')  # The dollar signs surround the formula, in LaTeX format.\n",
    "plt.ylabel('y')\n",
    "plt.xlabel('x')\n",
    "plt.grid(True)\n",
    "plt.show()\n"
   ]
  },
  {
   "cell_type": "markdown",
   "metadata": {
    "id": "9Wg3S1WTo1N0"
   },
   "source": [
    "Let's analyze the graphing code a bit more.  See the [official pyplot tutorial](https://matplotlib.org/users/pyplot_tutorial.html) for more details.  \n",
    "```python\n",
    "%matplotlib inline\n",
    "plt.plot(x_values, y_values)\n",
    "plt.title('The graph of $y = x^2$')  # The dollar signs surround the formula, in LaTeX format.\n",
    "plt.ylabel('y')\n",
    "plt.xlabel('x')\n",
    "plt.grid(True)\n",
    "plt.show()\n",
    "```\n",
    "The first line contains the **magic** `%matplotlib inline`.  We have seen a magic word before, in `%timeit`.  [Magic words](http://ipython.readthedocs.io/en/stable/interactive/magics.html) can call another program to assist.  So here, the magic `%matplotlib inline` calls matplotlib for help, and places the resulting figure within the notebook.\n",
    "\n",
    "The next line `plt.plot(x_values, y_values)` creates a `plot object` based on the data of the x-values and y-values.  It is an abstract sort of object, behind the scenes, in a format that matplotlib understands.  The following lines set the title of the plot, the axis labels, and turns a grid on.  The last line `plt.show` renders the plot as an image in your notebook.  There's an infinite variety of graphs that matplotlib can produce -- see [the gallery](https://matplotlib.org/gallery.html) for more!  Other graphics packages include [bokeh](http://bokeh.pydata.org/en/latest/) and [seaborn](http://seaborn.pydata.org/), which extends matplotlib."
   ]
  },
  {
   "cell_type": "markdown",
   "metadata": {
    "id": "b0yTOq4-o1N0"
   },
   "source": [
    "### Analysis of the prime counting function\n",
    "\n",
    "Now, to analyze the prime counting function, let's graph it.  To make a graph, we will first need a list of many values of x and many corresponding values of $\\pi(x)$.  We do this with two commands.  The first might take a minute to compute."
   ]
  },
  {
   "cell_type": "code",
   "execution_count": 162,
   "metadata": {
    "id": "gnKV26bno1N0"
   },
   "outputs": [],
   "source": [
    "x_values = numpy.linspace(0,1000000,1001) # The numpy array [0,1000,2000,3000,...,1000000]\n",
    "pix_values = numpy.array([primes_upto(x) for x in x_values])  # [FUNCTION(x) for x in LIST] syntax"
   ]
  },
  {
   "cell_type": "markdown",
   "metadata": {
    "id": "aqlila-uo1N0"
   },
   "source": [
    "We created an array of x-values as before.  But the creation of an array of y-values (here, called `pix_values` to stand for $\\pi(x)$) probably looks strange.  We have done two new things!\n",
    "\n",
    "1.  We have used a list comprehension `[primes_upto(x) for x in x_values]` to create a **list** of y-values.\n",
    "2.  We have used numpy.array(LIST) syntax to convert a Python list into a numpy array.\n",
    "\n",
    "First, we explain the list comprehension.  Instead of pulling out values of a list according to a condition, with `[x for x in LIST if CONDITION]`, we have created a new list based on performing a function each element of a list.  The syntax, used above, is `[FUNCTION(x) for x in LIST]`.  These two methods of list comprehension can be combined, in fact.  The most general syntax for list comprehension is `[FUNCTION(x) for x in LIST if CONDITION]`.\n",
    "\n",
    "Second, a list comprehension can be carried out on a numpy array, but the result is a plain Python list.  It will be better to have a numpy array instead for what follows, so we use the `numpy.array()` function to convert the list into a numpy array."
   ]
  },
  {
   "cell_type": "code",
   "execution_count": 163,
   "metadata": {
    "id": "i2DlTbsho1N0"
   },
   "outputs": [
    {
     "data": {
      "text/plain": [
       "numpy.ndarray"
      ]
     },
     "execution_count": 163,
     "metadata": {},
     "output_type": "execute_result"
    }
   ],
   "source": [
    "type(numpy.array([1,2,3]))  # For example."
   ]
  },
  {
   "cell_type": "markdown",
   "metadata": {
    "id": "BMmq8Fx4o1N0"
   },
   "source": [
    "Now we have two numpy arrays:  the array of x-values and the array of y-values.  We can make a plot with matplotlib."
   ]
  },
  {
   "cell_type": "code",
   "execution_count": 164,
   "metadata": {
    "id": "Cq5kg4HPo1N0"
   },
   "outputs": [
    {
     "data": {
      "text/plain": [
       "True"
      ]
     },
     "execution_count": 164,
     "metadata": {},
     "output_type": "execute_result"
    }
   ],
   "source": [
    "len(x_values) == len(pix_values)  # These better be the same, or else matplotlib will be unhappy."
   ]
  },
  {
   "cell_type": "code",
   "execution_count": 165,
   "metadata": {
    "id": "DEfDVt9Wo1N0"
   },
   "outputs": [
    {
     "data": {
      "image/png": "[encoded data removed]",
      "text/plain": [
       "<Figure size 432x288 with 1 Axes>"
      ]
     },
     "metadata": {
      "needs_background": "light"
     },
     "output_type": "display_data"
    }
   ],
   "source": [
    "%matplotlib inline\n",
    "plt.plot(x_values, pix_values)\n",
    "plt.title('The prime counting function')\n",
    "plt.ylabel('$\\pi(x)$')\n",
    "plt.xlabel('x')\n",
    "plt.grid(True)\n",
    "plt.show()"
   ]
  },
  {
   "cell_type": "markdown",
   "metadata": {
    "id": "R7djMP0do1N1"
   },
   "source": [
    "In this range, the prime counting function might look nearly linear.  But if you look closely, there's a subtle downward bend.  This is more pronounced in smaller ranges.  For example, let's look at the first 10 x-values and y-values only."
   ]
  },
  {
   "cell_type": "code",
   "execution_count": 166,
   "metadata": {
    "id": "oTPTeUX4o1N1"
   },
   "outputs": [
    {
     "data": {
      "image/png": "[encoded data removed]",
      "text/plain": [
       "<Figure size 432x288 with 1 Axes>"
      ]
     },
     "metadata": {
      "needs_background": "light"
     },
     "output_type": "display_data"
    }
   ],
   "source": [
    "%matplotlib inline\n",
    "plt.plot(x_values[:10], pix_values[:10])  # Look closer to 0.\n",
    "plt.title('The prime counting function')\n",
    "plt.ylabel('$\\pi(x)$')\n",
    "plt.xlabel('x')\n",
    "plt.grid(True)\n",
    "plt.show()"
   ]
  },
  {
   "cell_type": "markdown",
   "metadata": {
    "id": "EnrdVEyCo1N1"
   },
   "source": [
    "It still looks almost linear, but there's a visible downward bend here.  How can we see this bend more clearly?  If the graph were linear, its equation would have the form $\\pi(x) = mx$ for some fixed slope $m$ (since the graph *does* pass through the origin).  Therefore, the quantity $\\pi(x)/x$ would be *constant* if the graph were linear.  \n",
    "\n",
    "Hence, if we graph $\\pi(x) / x$ on the y-axis and $x$ on the x-axis, and the result is nonconstant, then the function $\\pi(x)$ is nonlinear."
   ]
  },
  {
   "cell_type": "code",
   "execution_count": 167,
   "metadata": {
    "id": "ZgRF7b2Ko1N1"
   },
   "outputs": [],
   "source": [
    "m_values = pix_values[1:] / x_values[1:]  # We start at 1, to avoid a division by zero error."
   ]
  },
  {
   "cell_type": "code",
   "execution_count": 168,
   "metadata": {
    "id": "-grvUV4so1N1"
   },
   "outputs": [
    {
     "data": {
      "image/png": "[encoded data removed]",
      "text/plain": [
       "<Figure size 432x288 with 1 Axes>"
      ]
     },
     "metadata": {
      "needs_background": "light"
     },
     "output_type": "display_data"
    }
   ],
   "source": [
    "%matplotlib inline\n",
    "plt.plot(x_values[1:], m_values)\n",
    "plt.title('The ratio $\\pi(x) / x$ as $x$ varies.')\n",
    "plt.xlabel('x')\n",
    "plt.ylabel('$\\pi(x) / x$')\n",
    "plt.grid(True)\n",
    "plt.show()"
   ]
  },
  {
   "cell_type": "markdown",
   "metadata": {
    "id": "HwGVsVlxo1N1"
   },
   "source": [
    "That is certainly not constant!  The decay of $\\pi(x) / x$ is not so different from $1 / \\log(x)$, in fact.  To see this, let's overlay the graphs.  We use the `numpy.log` function, which computes the natural logarithm of its input (and allows an entire array as input)."
   ]
  },
  {
   "cell_type": "code",
   "execution_count": 169,
   "metadata": {
    "id": "YlSSqcDko1N1"
   },
   "outputs": [
    {
     "data": {
      "image/png": "[encoded data removed]",
      "text/plain": [
       "<Figure size 432x288 with 1 Axes>"
      ]
     },
     "metadata": {
      "needs_background": "light"
     },
     "output_type": "display_data"
    }
   ],
   "source": [
    "%matplotlib inline\n",
    "plt.plot(x_values[1:], m_values, label='$\\pi(x)/x$')  # The same as the plot above.\n",
    "plt.plot(x_values[1:], 1 / numpy.log(x_values[1:]), label='$1 / \\log(x)$')  # Overlay the graph of 1 / log(x)\n",
    "plt.title('The ratio of $\\pi(x) / x$ as $x$ varies.')\n",
    "plt.xlabel('x')\n",
    "plt.ylabel('$\\pi(x) / x$')\n",
    "plt.grid(True)\n",
    "plt.legend()  # Turn on the legend.\n",
    "plt.show()"
   ]
  },
  {
   "cell_type": "markdown",
   "metadata": {
    "id": "zrPg3i8-o1N1"
   },
   "source": [
    "The shape of the decay of $\\pi(x) / x$ is very close to $1 / \\log(x)$, but it looks like there is an offset.  In fact, there is, and it is pretty close to $1 / \\log(x)^2$.  And that is close, but again there's another little offset, this time proportional to $2 / \\log(x)^3$.  This goes on forever, if one wishes to approximate $\\pi(x) / x$ by an \"asymptotic expansion\" (not a good idea, it turns out).\n",
    "\n",
    "The closeness of $\\pi(x) / x$ to $1 / \\log(x)$ is expressed in the **prime number theorem**:\n",
    "$$\\lim_{x \\rightarrow \\infty} \\frac{\\pi(x)}{x / \\log(x)} = 1.$$"
   ]
  },
  {
   "cell_type": "code",
   "execution_count": 170,
   "metadata": {
    "id": "NWQ3CIVwo1N1"
   },
   "outputs": [
    {
     "data": {
      "image/png": "[encoded data removed]",
      "text/plain": [
       "<Figure size 432x288 with 1 Axes>"
      ]
     },
     "metadata": {
      "needs_background": "light"
     },
     "output_type": "display_data"
    }
   ],
   "source": [
    "%matplotlib inline\n",
    "plt.plot(x_values[1:], m_values * numpy.log(x_values[1:])  )  # Should get closer to 1.\n",
    "plt.title('The ratio $\\pi(x) / (x / \\log(x))$ approaches 1... slowly')\n",
    "plt.xlabel('x')\n",
    "plt.ylabel('$\\pi(x) / (x / \\log(x)) $')\n",
    "plt.ylim(0.8,1.2)\n",
    "plt.grid(True)\n",
    "plt.show()"
   ]
  },
  {
   "cell_type": "markdown",
   "metadata": {
    "id": "X6ELoOO-o1N1"
   },
   "source": [
    "Comparing the graph to the theoretical result, we find that the ratio $\\pi(x) / (x / \\log(x))$ approaches $1$ (the theoretical result) but very slowly (see the graph above!)."
   ]
  },
  {
   "cell_type": "markdown",
   "metadata": {
    "id": "aqXOKRako1N1"
   },
   "source": [
    "A much stronger result relates $\\pi(x)$ to the \"logarithmic integral\" $li(x)$.  The [Riemann hypothesis](http://www.claymath.org/millennium-problems/riemann-hypothesis) is equivalent to the statement\n",
    "$$\\left\\vert \\pi(x) - li(x) \\right\\vert = O(\\sqrt{x} \\log(x)).$$\n",
    "In other words, the error if one approximates $\\pi(x)$ by $li(x)$ is bounded by a constant times $\\sqrt{x} \\log(x)$.  The logarithmic integral function isn't part of Python or numpy, but it is in the mpmath package.  If you have this package installed, then you can try the following."
   ]
  },
  {
   "cell_type": "code",
   "execution_count": 171,
   "metadata": {
    "id": "KqOcdcCjo1N2"
   },
   "outputs": [],
   "source": [
    "from mpmath import li"
   ]
  },
  {
   "cell_type": "code",
   "execution_count": 172,
   "metadata": {
    "id": "Pgee6LGxo1N2"
   },
   "outputs": [
    {
     "name": "stdout",
     "output_type": "stream",
     "text": [
      "78498\n",
      "78627.5491594622\n"
     ]
    }
   ],
   "source": [
    "print(primes_upto(1000000))  # The number of primes up to 1 million.\n",
    "print(li(1000000))  # The logarithmic integral of 1 million."
   ]
  },
  {
   "cell_type": "markdown",
   "metadata": {
    "id": "8Ak3l_pPo1N2"
   },
   "source": [
    "Not too shabby!"
   ]
  },
  {
   "cell_type": "markdown",
   "metadata": {
    "id": "Sp7gn8eto1N2"
   },
   "source": [
    "### Prime gaps\n",
    "\n",
    "As a last bit of data analysis, we consider the **prime gaps**.  These are the numbers that occur as differences between consecutive primes.  Since all primes except 2 are odd, all prime gaps are even except for the 1-unit gap between 2 and 3.  There are many unsolved problems about prime gaps; the most famous might be that a gap of 2 occurs infinitely often (as in the gaps between 3,5 and between 11,13 and between 41,43, etc.).\n",
    "\n",
    "Once we have our data set of prime numbers, it is not hard to create a data set of prime gaps.  Recall that `primes` is our list of prime numbers up to 1 million."
   ]
  },
  {
   "cell_type": "code",
   "execution_count": 173,
   "metadata": {
    "id": "NHd3eV32o1N2"
   },
   "outputs": [
    {
     "data": {
      "text/plain": [
       "78498"
      ]
     },
     "execution_count": 173,
     "metadata": {},
     "output_type": "execute_result"
    }
   ],
   "source": [
    "len(primes) # The number of primes up to 1 million."
   ]
  },
  {
   "cell_type": "code",
   "execution_count": 174,
   "metadata": {
    "id": "XHc6S5mzo1N2"
   },
   "outputs": [],
   "source": [
    "primes_allbutlast = primes[:-1]  # This excludes the last prime in the list.\n",
    "primes_allbutfirst = primes[1:]  # This excludes the first (i.e., with index 0) prime in the list."
   ]
  },
  {
   "cell_type": "code",
   "execution_count": 175,
   "metadata": {
    "id": "QBIkUK5eo1N2"
   },
   "outputs": [],
   "source": [
    "primegaps = numpy.array(primes_allbutfirst) - numpy.array(primes_allbutlast) # Numpy is fast!"
   ]
  },
  {
   "cell_type": "code",
   "execution_count": 176,
   "metadata": {
    "id": "tqGLrNREo1N2"
   },
   "outputs": [
    {
     "name": "stdout",
     "output_type": "stream",
     "text": [
      "[ 1  2  2  4  2  4  2  4  6  2  6  4  2  4  6  6  2  6  4  2  6  4  6  8\n",
      "  4  2  4  2  4 14  4  6  2 10  2  6  6  4  6  6  2 10  2  4  2 12 12  4\n",
      "  2  4  6  2 10  6  6  6  2  6  4  2 10 14  4  2  4 14  6 10  2  4  6  8\n",
      "  6  6  4  6  8  4  8 10  2 10  2  6  4  6  8  4  2  4 12  8  4  8  4  6\n",
      " 12  2 18  6]\n"
     ]
    }
   ],
   "source": [
    "print(primegaps[:100])  # The first hundred prime gaps!"
   ]
  },
  {
   "cell_type": "markdown",
   "metadata": {
    "id": "nmMeiaSpo1N2"
   },
   "source": [
    "What have we done?  It is useful to try out this method on a short list.  "
   ]
  },
  {
   "cell_type": "code",
   "execution_count": 177,
   "metadata": {
    "id": "on-JH3dTo1N2"
   },
   "outputs": [],
   "source": [
    "L = [1,3,7,20]  # A nice short list."
   ]
  },
  {
   "cell_type": "code",
   "execution_count": 178,
   "metadata": {
    "id": "f4iyePe3o1N2"
   },
   "outputs": [
    {
     "name": "stdout",
     "output_type": "stream",
     "text": [
      "[1, 3, 7]\n",
      "[3, 7, 20]\n"
     ]
    }
   ],
   "source": [
    "print(L[:-1])\n",
    "print(L[1:])"
   ]
  },
  {
   "cell_type": "markdown",
   "metadata": {
    "id": "gpKfCHEEo1N3"
   },
   "source": [
    "Now we have two lists of the same length.  The gaps in the original list `L` are the differences between terms of the *same* index in the two new lists.  One might be tempted to just subtract, e.g., with the command `L[1:] - L[:-1]`, but subtraction is not defined for lists.\n",
    "\n",
    "Fortunately, by converting the lists to numpy arrays, we can use numpy's term-by-term subtraction operation."
   ]
  },
  {
   "cell_type": "code",
   "execution_count": 180,
   "metadata": {
    "id": "H2Ob8Jkro1N3"
   },
   "outputs": [],
   "source": [
    "#L[1:] - L[:-1]  # This will give a TypeError.  You can't subtract lists!"
   ]
  },
  {
   "cell_type": "code",
   "execution_count": 181,
   "metadata": {
    "id": "lSkR4Dxho1N3"
   },
   "outputs": [
    {
     "data": {
      "text/plain": [
       "array([ 2,  4, 13])"
      ]
     },
     "execution_count": 181,
     "metadata": {},
     "output_type": "execute_result"
    }
   ],
   "source": [
    "numpy.array(L[1:]) - numpy.array(L[:-1])  # That's better.  See the gaps in the list [1,3,7,20] in the output."
   ]
  },
  {
   "cell_type": "markdown",
   "metadata": {
    "id": "-dVIfFnVo1N3"
   },
   "source": [
    "Now let's return to our primegaps data set.  It contains all the gap-sizes for primes up to 1 million.  "
   ]
  },
  {
   "cell_type": "code",
   "execution_count": 182,
   "metadata": {
    "id": "i9FFJvMbo1N3"
   },
   "outputs": [
    {
     "name": "stdout",
     "output_type": "stream",
     "text": [
      "78498\n",
      "78497\n"
     ]
    }
   ],
   "source": [
    "print(len(primes))\n",
    "print(len(primegaps))  # This should be one less than the number of primes."
   ]
  },
  {
   "cell_type": "markdown",
   "metadata": {
    "id": "hz93cWX1o1N3"
   },
   "source": [
    "As a last example of data visualization, we use matplotlib to produce a histogram of the prime gaps."
   ]
  },
  {
   "cell_type": "code",
   "execution_count": 183,
   "metadata": {
    "id": "6V5Nj_MCo1N3"
   },
   "outputs": [
    {
     "data": {
      "text/plain": [
       "114"
      ]
     },
     "execution_count": 183,
     "metadata": {},
     "output_type": "execute_result"
    }
   ],
   "source": [
    "max(primegaps)  # The largest prime gap that appears!"
   ]
  },
  {
   "cell_type": "code",
   "execution_count": 184,
   "metadata": {
    "id": "rOFsdO1Uo1N3"
   },
   "outputs": [
    {
     "data": {
      "image/png": "[encoded data removed]",
      "text/plain": [
       "<Figure size 864x360 with 1 Axes>"
      ]
     },
     "metadata": {
      "needs_background": "light"
     },
     "output_type": "display_data"
    }
   ],
   "source": [
    "%matplotlib inline\n",
    "plt.figure(figsize=(12, 5))  #  Makes the resulting figure 12in by 5in.\n",
    "plt.hist(primegaps, bins=range(1,115)) #  Makes a histogram with one bin for each possible gap from 1 to 114.\n",
    "plt.ylabel('Frequency')\n",
    "plt.xlabel('Gap size')\n",
    "plt.grid(True)\n",
    "plt.title('The frequency of prime gaps, for primes up to 1 million')\n",
    "plt.show()"
   ]
  },
  {
   "cell_type": "markdown",
   "metadata": {
    "id": "kkWLq7QLo1N3"
   },
   "source": [
    "Observe that gaps of 2 (twin primes) are pretty frequent.  There are over 8000 of them, and about the same number of 4-unit gaps!  But gaps of 6 are most frequent in the population, and there are some interesting peaks at 6, 12, 18, 24, 30.  What else do you observe?"
   ]
  },
  {
   "cell_type": "markdown",
   "metadata": {
    "id": "yt5JakuSo1N3"
   },
   "source": [
    "### Exercises\n",
    "\n",
    "1.  Create functions `redprimes_upto(x)` and `blueprimes_upto(x)` which count the number of red/blue primes up to a given number `x`.  Recall that we defined red/blue primes to be those of the form 4n+1 or 4n+3, respectively.  Graph the relative proportion of red/blue primes as `x` varies from 1 to 1 million.  E.g., are the proportions 50%/50% or 70%/30%, and how do these proportions change?  Note:  this is also visualized in [An Illustrated Theory of Numbers](http://bookstore.ams.org/mbk-105) and you can read [an article by Rubinstein and Sarnak](https://projecteuclid.org/euclid.em/1048515870) for more.\n",
    "\n",
    "2.  Does there seem to be a bias in the last digits of primes?  Note that, except for 2 and 5, every prime ends in 1,3,7, or 9.  Note: the last digit of a number `n` is obtained from `n % 10`.  \n",
    "\n",
    "3.  Read about the [\"Prime Conspiracy\"](https://www.quantamagazine.org/mathematicians-discover-prime-conspiracy-20160313), recently discovered by Lemke Oliver and Soundararajan.  Can you detect their conspiracy in our data set of primes?"
   ]
  },
  {
   "cell_type": "markdown",
   "metadata": {},
   "source": [
    "### Question 1"
   ]
  },
  {
   "cell_type": "code",
   "execution_count": 201,
   "metadata": {},
   "outputs": [],
   "source": [
    "def redprimes_upto(x):\n",
    "    primes = isprime_list(x)\n",
    "    redprimes = [i for i in range(len(primes)) if primes[i] and i%4 == 1]\n",
    "    return len(redprimes)\n",
    "\n",
    "def blueprimes_upto(x):\n",
    "    primes = isprime_list(x)\n",
    "    blueprimes = [i for i in range(len(primes)) if primes[i] and i%4 == 3]\n",
    "    return len(blueprimes)"
   ]
  },
  {
   "cell_type": "code",
   "execution_count": 211,
   "metadata": {},
   "outputs": [],
   "source": [
    "x_values = list(range(3,10**6,1000))\n",
    "red_blue_ratios = [redprimes_upto(i)/blueprimes_upto(i) for i in x_values]"
   ]
  },
  {
   "cell_type": "code",
   "execution_count": 212,
   "metadata": {},
   "outputs": [
    {
     "data": {
      "image/png": "[encoded data removed]",
      "text/plain": [
       "<Figure size 432x288 with 1 Axes>"
      ]
     },
     "metadata": {
      "needs_background": "light"
     },
     "output_type": "display_data"
    }
   ],
   "source": [
    "%matplotlib inline\n",
    "plt.plot(x_values, red_blue_ratios)\n",
    "plt.title('The ratio of red to blue primes up to x.')\n",
    "plt.xlabel('x')\n",
    "plt.ylabel('redprimes_upto(x)/blueprimes_upto(x)')\n",
    "plt.grid(True)\n",
    "plt.show()"
   ]
  },
  {
   "cell_type": "markdown",
   "metadata": {},
   "source": [
    "### Question 2"
   ]
  },
  {
   "cell_type": "code",
   "execution_count": 217,
   "metadata": {},
   "outputs": [
    {
     "name": "stdout",
     "output_type": "stream",
     "text": [
      "[0, 19617, 1, 19665, 0, 1, 0, 19621, 0, 19593]\n"
     ]
    }
   ],
   "source": [
    "primes_last_digit = [0] * 10\n",
    "primes = where(isprime_list(1000000))\n",
    "for i in primes:\n",
    "    last_digit = i % 10\n",
    "    primes_last_digit[last_digit] += 1\n",
    "print(primes_last_digit)"
   ]
  },
  {
   "cell_type": "markdown",
   "metadata": {},
   "source": [
    "The number at the nth index is the number of primes that end in n. They are all very close, the only one that stands out is 3. I don't have any ideas as to why."
   ]
  }
 ],
 "metadata": {
  "colab": {
   "name": "P4M Notebook 3.ipynb",
   "provenance": [],
   "toc_visible": true
  },
  "kernelspec": {
   "display_name": "Python 3",
   "language": "python",
   "name": "python3"
  },
  "language_info": {
   "codemirror_mode": {
    "name": "ipython",
    "version": 3
   },
   "file_extension": ".py",
   "mimetype": "text/x-python",
   "name": "python",
   "nbconvert_exporter": "python",
   "pygments_lexer": "ipython3",
   "version": "3.8.5"
  }
 },
 "nbformat": 4,
 "nbformat_minor": 1
}
